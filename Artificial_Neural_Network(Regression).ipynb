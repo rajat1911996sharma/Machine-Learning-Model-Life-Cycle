{
  "nbformat": 4,
  "nbformat_minor": 0,
  "metadata": {
    "colab": {
      "name": "Artificial Neural Network(Regression).ipynb",
      "provenance": [],
      "collapsed_sections": [],
      "authorship_tag": "ABX9TyNoUc/m+pLmEkrS9WpopFHf",
      "include_colab_link": true
    },
    "kernelspec": {
      "name": "python3",
      "display_name": "Python 3"
    }
  },
  "cells": [
    {
      "cell_type": "markdown",
      "metadata": {
        "id": "view-in-github",
        "colab_type": "text"
      },
      "source": [
        "<a href=\"https://colab.research.google.com/github/rajat1911996sharma/Machine-Learning-Model-Life-Cycle/blob/Regresion-Models/Artificial_Neural_Network(Regression).ipynb\" target=\"_parent\"><img src=\"https://colab.research.google.com/assets/colab-badge.svg\" alt=\"Open In Colab\"/></a>"
      ]
    },
    {
      "cell_type": "markdown",
      "metadata": {
        "id": "SpHmMyl7ZfJV"
      },
      "source": [
        "#Dataset from Combined Cycle Power Plant Dataset\r\n",
        "\r\n",
        "[The infomation about the dataset](https://archive.ics.uci.edu/ml/datasets/Combined+Cycle+Power+Plant)"
      ]
    },
    {
      "cell_type": "markdown",
      "metadata": {
        "id": "dXTddmPeaoEc"
      },
      "source": [
        "#Artificial Neural Network Regression"
      ]
    },
    {
      "cell_type": "markdown",
      "metadata": {
        "id": "V8Q5Up98a4s6"
      },
      "source": [
        "###Importing the libraries"
      ]
    },
    {
      "cell_type": "code",
      "metadata": {
        "id": "IBQ8rriia-B_"
      },
      "source": [
        "import pandas as pd\r\n",
        "import numpy as np\r\n",
        "import matplotlib.pyplot as plt\r\n",
        "import seaborn as sns"
      ],
      "execution_count": 1,
      "outputs": []
    },
    {
      "cell_type": "markdown",
      "metadata": {
        "id": "zA5W6J18auup"
      },
      "source": [
        "##Data Preprocessing"
      ]
    },
    {
      "cell_type": "markdown",
      "metadata": {
        "id": "Zn9IPgbVaxgx"
      },
      "source": [
        "###Importing the Dataset"
      ]
    },
    {
      "cell_type": "code",
      "metadata": {
        "id": "-FgFmQgJMxRA"
      },
      "source": [
        "df = pd.read_excel('Folds5x2_pp.xlsx')"
      ],
      "execution_count": 2,
      "outputs": []
    },
    {
      "cell_type": "code",
      "metadata": {
        "colab": {
          "base_uri": "https://localhost:8080/",
          "height": 195
        },
        "id": "44JibyLxbMO_",
        "outputId": "c8222364-89ed-4186-ef64-4f6267aca9d6"
      },
      "source": [
        "df.head()"
      ],
      "execution_count": 3,
      "outputs": [
        {
          "output_type": "execute_result",
          "data": {
            "text/html": [
              "<div>\n",
              "<style scoped>\n",
              "    .dataframe tbody tr th:only-of-type {\n",
              "        vertical-align: middle;\n",
              "    }\n",
              "\n",
              "    .dataframe tbody tr th {\n",
              "        vertical-align: top;\n",
              "    }\n",
              "\n",
              "    .dataframe thead th {\n",
              "        text-align: right;\n",
              "    }\n",
              "</style>\n",
              "<table border=\"1\" class=\"dataframe\">\n",
              "  <thead>\n",
              "    <tr style=\"text-align: right;\">\n",
              "      <th></th>\n",
              "      <th>AT</th>\n",
              "      <th>V</th>\n",
              "      <th>AP</th>\n",
              "      <th>RH</th>\n",
              "      <th>PE</th>\n",
              "    </tr>\n",
              "  </thead>\n",
              "  <tbody>\n",
              "    <tr>\n",
              "      <th>0</th>\n",
              "      <td>14.96</td>\n",
              "      <td>41.76</td>\n",
              "      <td>1024.07</td>\n",
              "      <td>73.17</td>\n",
              "      <td>463.26</td>\n",
              "    </tr>\n",
              "    <tr>\n",
              "      <th>1</th>\n",
              "      <td>25.18</td>\n",
              "      <td>62.96</td>\n",
              "      <td>1020.04</td>\n",
              "      <td>59.08</td>\n",
              "      <td>444.37</td>\n",
              "    </tr>\n",
              "    <tr>\n",
              "      <th>2</th>\n",
              "      <td>5.11</td>\n",
              "      <td>39.40</td>\n",
              "      <td>1012.16</td>\n",
              "      <td>92.14</td>\n",
              "      <td>488.56</td>\n",
              "    </tr>\n",
              "    <tr>\n",
              "      <th>3</th>\n",
              "      <td>20.86</td>\n",
              "      <td>57.32</td>\n",
              "      <td>1010.24</td>\n",
              "      <td>76.64</td>\n",
              "      <td>446.48</td>\n",
              "    </tr>\n",
              "    <tr>\n",
              "      <th>4</th>\n",
              "      <td>10.82</td>\n",
              "      <td>37.50</td>\n",
              "      <td>1009.23</td>\n",
              "      <td>96.62</td>\n",
              "      <td>473.90</td>\n",
              "    </tr>\n",
              "  </tbody>\n",
              "</table>\n",
              "</div>"
            ],
            "text/plain": [
              "      AT      V       AP     RH      PE\n",
              "0  14.96  41.76  1024.07  73.17  463.26\n",
              "1  25.18  62.96  1020.04  59.08  444.37\n",
              "2   5.11  39.40  1012.16  92.14  488.56\n",
              "3  20.86  57.32  1010.24  76.64  446.48\n",
              "4  10.82  37.50  1009.23  96.62  473.90"
            ]
          },
          "metadata": {
            "tags": []
          },
          "execution_count": 3
        }
      ]
    },
    {
      "cell_type": "code",
      "metadata": {
        "id": "pqV3lYhPbXbf"
      },
      "source": [
        "X = df.iloc[:, :-1].values\r\n",
        "y = df.iloc[:, -1].values"
      ],
      "execution_count": 4,
      "outputs": []
    },
    {
      "cell_type": "code",
      "metadata": {
        "colab": {
          "base_uri": "https://localhost:8080/"
        },
        "id": "QeNP-xCAb7O2",
        "outputId": "c3a6a370-7266-4a0e-abb3-7f28a34e1f06"
      },
      "source": [
        "X"
      ],
      "execution_count": 5,
      "outputs": [
        {
          "output_type": "execute_result",
          "data": {
            "text/plain": [
              "array([[  14.96,   41.76, 1024.07,   73.17],\n",
              "       [  25.18,   62.96, 1020.04,   59.08],\n",
              "       [   5.11,   39.4 , 1012.16,   92.14],\n",
              "       ...,\n",
              "       [  31.32,   74.33, 1012.92,   36.48],\n",
              "       [  24.48,   69.45, 1013.86,   62.39],\n",
              "       [  21.6 ,   62.52, 1017.23,   67.87]])"
            ]
          },
          "metadata": {
            "tags": []
          },
          "execution_count": 5
        }
      ]
    },
    {
      "cell_type": "code",
      "metadata": {
        "colab": {
          "base_uri": "https://localhost:8080/"
        },
        "id": "t6LPAfUPcANz",
        "outputId": "66df020c-7e82-4e23-bef7-8978d20c0baa"
      },
      "source": [
        "X.shape"
      ],
      "execution_count": 7,
      "outputs": [
        {
          "output_type": "execute_result",
          "data": {
            "text/plain": [
              "(9568, 4)"
            ]
          },
          "metadata": {
            "tags": []
          },
          "execution_count": 7
        }
      ]
    },
    {
      "cell_type": "code",
      "metadata": {
        "colab": {
          "base_uri": "https://localhost:8080/"
        },
        "id": "83WTtEVycB-W",
        "outputId": "6413d5fa-22c4-46ab-dbfd-5e546dcd7f18"
      },
      "source": [
        "type(X)"
      ],
      "execution_count": 8,
      "outputs": [
        {
          "output_type": "execute_result",
          "data": {
            "text/plain": [
              "numpy.ndarray"
            ]
          },
          "metadata": {
            "tags": []
          },
          "execution_count": 8
        }
      ]
    },
    {
      "cell_type": "code",
      "metadata": {
        "colab": {
          "base_uri": "https://localhost:8080/"
        },
        "id": "Sfm14yHbb6-c",
        "outputId": "f9854add-4e35-4491-e5e4-65040ba4a977"
      },
      "source": [
        "y"
      ],
      "execution_count": 6,
      "outputs": [
        {
          "output_type": "execute_result",
          "data": {
            "text/plain": [
              "array([463.26, 444.37, 488.56, ..., 429.57, 435.74, 453.28])"
            ]
          },
          "metadata": {
            "tags": []
          },
          "execution_count": 6
        }
      ]
    },
    {
      "cell_type": "code",
      "metadata": {
        "colab": {
          "base_uri": "https://localhost:8080/"
        },
        "id": "M7KYc9hhcGj9",
        "outputId": "534c157e-9121-455e-b95b-523e3878ec7c"
      },
      "source": [
        "y.shape"
      ],
      "execution_count": 9,
      "outputs": [
        {
          "output_type": "execute_result",
          "data": {
            "text/plain": [
              "(9568,)"
            ]
          },
          "metadata": {
            "tags": []
          },
          "execution_count": 9
        }
      ]
    },
    {
      "cell_type": "code",
      "metadata": {
        "colab": {
          "base_uri": "https://localhost:8080/"
        },
        "id": "Wu3rm7iicKQ1",
        "outputId": "9ddcd452-272b-4d9e-e323-712d9c5ae405"
      },
      "source": [
        "type(X)"
      ],
      "execution_count": 10,
      "outputs": [
        {
          "output_type": "execute_result",
          "data": {
            "text/plain": [
              "numpy.ndarray"
            ]
          },
          "metadata": {
            "tags": []
          },
          "execution_count": 10
        }
      ]
    },
    {
      "cell_type": "markdown",
      "metadata": {
        "id": "xH1DZA4kbx5_"
      },
      "source": [
        "###Splitting the Dataset into Training Set and Test Set"
      ]
    },
    {
      "cell_type": "code",
      "metadata": {
        "id": "dlO_tny5bvxi"
      },
      "source": [
        "from sklearn.model_selection import train_test_split\r\n",
        "X_train, X_test, y_train, y_test = train_test_split(X,y,test_size=0.2,random_state=0)"
      ],
      "execution_count": 11,
      "outputs": []
    },
    {
      "cell_type": "markdown",
      "metadata": {
        "id": "aEPXaswgcaTn"
      },
      "source": [
        "##Building the ANN"
      ]
    },
    {
      "cell_type": "markdown",
      "metadata": {
        "id": "NtMg6mL2cdmn"
      },
      "source": [
        "###Initializing the ANN"
      ]
    },
    {
      "cell_type": "code",
      "metadata": {
        "id": "bL2jr7MAcZEc"
      },
      "source": [
        "from tensorflow.keras.models import Sequential\r\n",
        "ann = Sequential()"
      ],
      "execution_count": 12,
      "outputs": []
    },
    {
      "cell_type": "markdown",
      "metadata": {
        "id": "LDqkxTrSc3X9"
      },
      "source": [
        "###Adding the first layer and the hidden layer"
      ]
    },
    {
      "cell_type": "code",
      "metadata": {
        "id": "oGvx-Brvc28P"
      },
      "source": [
        "from tensorflow.keras.layers import Dense\r\n",
        "ann.add(Dense(units = 4, activation='relu'))"
      ],
      "execution_count": 13,
      "outputs": []
    },
    {
      "cell_type": "markdown",
      "metadata": {
        "id": "AhTo30I4dW-d"
      },
      "source": [
        "###Adding the second hidden layer"
      ]
    },
    {
      "cell_type": "code",
      "metadata": {
        "id": "DS7fPAjNdexl"
      },
      "source": [
        "ann.add(Dense(units = 4, activation='relu'))"
      ],
      "execution_count": 14,
      "outputs": []
    },
    {
      "cell_type": "markdown",
      "metadata": {
        "id": "SI8pefIqdkbl"
      },
      "source": [
        "###Adding the output layer"
      ]
    },
    {
      "cell_type": "code",
      "metadata": {
        "id": "44QqPKqYdh6K"
      },
      "source": [
        "ann.add(Dense(units=1))\r\n",
        "#As we are doing univariate regression function, so we choose no activation function\r\n",
        "#binary Categorical variable is sigmoid\r\n",
        "#multivariate categorical variable is softmax\r\n"
      ],
      "execution_count": 15,
      "outputs": []
    },
    {
      "cell_type": "markdown",
      "metadata": {
        "id": "07QiETZReOfI"
      },
      "source": [
        "##Training the ANN"
      ]
    },
    {
      "cell_type": "markdown",
      "metadata": {
        "id": "VVlYDZh5eRPv"
      },
      "source": [
        "###Compiling the ANN"
      ]
    },
    {
      "cell_type": "code",
      "metadata": {
        "id": "6PDBPh1KeWCn"
      },
      "source": [
        "ann.compile(optimizer='adam', loss='mean_squared_error')\r\n",
        "#mse for regression models"
      ],
      "execution_count": 16,
      "outputs": []
    },
    {
      "cell_type": "markdown",
      "metadata": {
        "id": "DLi0IAp5ewLY"
      },
      "source": [
        "###Training the ANN model on the Training Set"
      ]
    },
    {
      "cell_type": "code",
      "metadata": {
        "colab": {
          "base_uri": "https://localhost:8080/"
        },
        "id": "1sbn8TXFeNaL",
        "outputId": "b6c54ab3-7295-4a5d-8f12-bdb634a665a6"
      },
      "source": [
        "ann.fit(X_train,y_train, batch_size=32, epochs=100)"
      ],
      "execution_count": 17,
      "outputs": [
        {
          "output_type": "stream",
          "text": [
            "Epoch 1/100\n",
            "240/240 [==============================] - 1s 879us/step - loss: 247365.5029\n",
            "Epoch 2/100\n",
            "240/240 [==============================] - 0s 905us/step - loss: 210627.2258\n",
            "Epoch 3/100\n",
            "240/240 [==============================] - 0s 952us/step - loss: 205036.5375\n",
            "Epoch 4/100\n",
            "240/240 [==============================] - 0s 898us/step - loss: 159188.8520\n",
            "Epoch 5/100\n",
            "240/240 [==============================] - 0s 920us/step - loss: 1582.0452\n",
            "Epoch 6/100\n",
            "240/240 [==============================] - 0s 925us/step - loss: 322.2261\n",
            "Epoch 7/100\n",
            "240/240 [==============================] - 0s 934us/step - loss: 320.1269\n",
            "Epoch 8/100\n",
            "240/240 [==============================] - 0s 908us/step - loss: 317.1462\n",
            "Epoch 9/100\n",
            "240/240 [==============================] - 0s 880us/step - loss: 307.4277\n",
            "Epoch 10/100\n",
            "240/240 [==============================] - 0s 870us/step - loss: 306.4349\n",
            "Epoch 11/100\n",
            "240/240 [==============================] - 0s 895us/step - loss: 296.5164\n",
            "Epoch 12/100\n",
            "240/240 [==============================] - 0s 941us/step - loss: 285.0104\n",
            "Epoch 13/100\n",
            "240/240 [==============================] - 0s 926us/step - loss: 281.6030\n",
            "Epoch 14/100\n",
            "240/240 [==============================] - 0s 918us/step - loss: 268.0241\n",
            "Epoch 15/100\n",
            "240/240 [==============================] - 0s 898us/step - loss: 261.8878\n",
            "Epoch 16/100\n",
            "240/240 [==============================] - 0s 909us/step - loss: 236.9643\n",
            "Epoch 17/100\n",
            "240/240 [==============================] - 0s 882us/step - loss: 238.4089\n",
            "Epoch 18/100\n",
            "240/240 [==============================] - 0s 891us/step - loss: 225.3718\n",
            "Epoch 19/100\n",
            "240/240 [==============================] - 0s 883us/step - loss: 206.3974\n",
            "Epoch 20/100\n",
            "240/240 [==============================] - 0s 935us/step - loss: 195.6495\n",
            "Epoch 21/100\n",
            "240/240 [==============================] - 0s 958us/step - loss: 187.0847\n",
            "Epoch 22/100\n",
            "240/240 [==============================] - 0s 893us/step - loss: 174.3774\n",
            "Epoch 23/100\n",
            "240/240 [==============================] - 0s 888us/step - loss: 158.4538\n",
            "Epoch 24/100\n",
            "240/240 [==============================] - 0s 849us/step - loss: 148.1703\n",
            "Epoch 25/100\n",
            "240/240 [==============================] - 0s 900us/step - loss: 133.1493\n",
            "Epoch 26/100\n",
            "240/240 [==============================] - 0s 937us/step - loss: 124.1400\n",
            "Epoch 27/100\n",
            "240/240 [==============================] - 0s 908us/step - loss: 112.1280\n",
            "Epoch 28/100\n",
            "240/240 [==============================] - 0s 914us/step - loss: 102.2776\n",
            "Epoch 29/100\n",
            "240/240 [==============================] - 0s 893us/step - loss: 90.4521\n",
            "Epoch 30/100\n",
            "240/240 [==============================] - 0s 996us/step - loss: 84.9175\n",
            "Epoch 31/100\n",
            "240/240 [==============================] - 0s 925us/step - loss: 74.2709\n",
            "Epoch 32/100\n",
            "240/240 [==============================] - 0s 903us/step - loss: 69.8509\n",
            "Epoch 33/100\n",
            "240/240 [==============================] - 0s 911us/step - loss: 63.7248\n",
            "Epoch 34/100\n",
            "240/240 [==============================] - 0s 921us/step - loss: 55.9478\n",
            "Epoch 35/100\n",
            "240/240 [==============================] - 0s 909us/step - loss: 52.8331\n",
            "Epoch 36/100\n",
            "240/240 [==============================] - 0s 898us/step - loss: 47.8856\n",
            "Epoch 37/100\n",
            "240/240 [==============================] - 0s 889us/step - loss: 44.5927\n",
            "Epoch 38/100\n",
            "240/240 [==============================] - 0s 896us/step - loss: 40.7970\n",
            "Epoch 39/100\n",
            "240/240 [==============================] - 0s 929us/step - loss: 39.4174\n",
            "Epoch 40/100\n",
            "240/240 [==============================] - 0s 867us/step - loss: 36.5961\n",
            "Epoch 41/100\n",
            "240/240 [==============================] - 0s 927us/step - loss: 34.7610\n",
            "Epoch 42/100\n",
            "240/240 [==============================] - 0s 929us/step - loss: 32.8997\n",
            "Epoch 43/100\n",
            "240/240 [==============================] - 0s 890us/step - loss: 31.6044\n",
            "Epoch 44/100\n",
            "240/240 [==============================] - 0s 909us/step - loss: 31.4016\n",
            "Epoch 45/100\n",
            "240/240 [==============================] - 0s 922us/step - loss: 30.9570\n",
            "Epoch 46/100\n",
            "240/240 [==============================] - 0s 928us/step - loss: 29.7896\n",
            "Epoch 47/100\n",
            "240/240 [==============================] - 0s 925us/step - loss: 29.4976\n",
            "Epoch 48/100\n",
            "240/240 [==============================] - 0s 933us/step - loss: 30.7972\n",
            "Epoch 49/100\n",
            "240/240 [==============================] - 0s 993us/step - loss: 28.2496\n",
            "Epoch 50/100\n",
            "240/240 [==============================] - 0s 918us/step - loss: 29.6282\n",
            "Epoch 51/100\n",
            "240/240 [==============================] - 0s 963us/step - loss: 28.4355\n",
            "Epoch 52/100\n",
            "240/240 [==============================] - 0s 882us/step - loss: 28.4978\n",
            "Epoch 53/100\n",
            "240/240 [==============================] - 0s 917us/step - loss: 27.9562\n",
            "Epoch 54/100\n",
            "240/240 [==============================] - 0s 904us/step - loss: 28.2193\n",
            "Epoch 55/100\n",
            "240/240 [==============================] - 0s 893us/step - loss: 28.3590\n",
            "Epoch 56/100\n",
            "240/240 [==============================] - 0s 925us/step - loss: 27.8061\n",
            "Epoch 57/100\n",
            "240/240 [==============================] - 0s 920us/step - loss: 27.5354\n",
            "Epoch 58/100\n",
            "240/240 [==============================] - 0s 879us/step - loss: 26.6005\n",
            "Epoch 59/100\n",
            "240/240 [==============================] - 0s 959us/step - loss: 27.1817\n",
            "Epoch 60/100\n",
            "240/240 [==============================] - 0s 944us/step - loss: 26.7657\n",
            "Epoch 61/100\n",
            "240/240 [==============================] - 0s 902us/step - loss: 27.7220\n",
            "Epoch 62/100\n",
            "240/240 [==============================] - 0s 892us/step - loss: 26.7627\n",
            "Epoch 63/100\n",
            "240/240 [==============================] - 0s 996us/step - loss: 26.3345\n",
            "Epoch 64/100\n",
            "240/240 [==============================] - 0s 941us/step - loss: 27.5622\n",
            "Epoch 65/100\n",
            "240/240 [==============================] - 0s 955us/step - loss: 26.6726\n",
            "Epoch 66/100\n",
            "240/240 [==============================] - 0s 965us/step - loss: 28.1974\n",
            "Epoch 67/100\n",
            "240/240 [==============================] - 0s 909us/step - loss: 26.4562\n",
            "Epoch 68/100\n",
            "240/240 [==============================] - 0s 958us/step - loss: 27.4361\n",
            "Epoch 69/100\n",
            "240/240 [==============================] - 0s 943us/step - loss: 26.9319\n",
            "Epoch 70/100\n",
            "240/240 [==============================] - 0s 904us/step - loss: 27.3724\n",
            "Epoch 71/100\n",
            "240/240 [==============================] - 0s 912us/step - loss: 27.1507\n",
            "Epoch 72/100\n",
            "240/240 [==============================] - 0s 900us/step - loss: 26.6618\n",
            "Epoch 73/100\n",
            "240/240 [==============================] - 0s 934us/step - loss: 27.6797\n",
            "Epoch 74/100\n",
            "240/240 [==============================] - 0s 910us/step - loss: 27.4139\n",
            "Epoch 75/100\n",
            "240/240 [==============================] - 0s 943us/step - loss: 26.6836\n",
            "Epoch 76/100\n",
            "240/240 [==============================] - 0s 966us/step - loss: 26.1868\n",
            "Epoch 77/100\n",
            "240/240 [==============================] - 0s 901us/step - loss: 26.9287\n",
            "Epoch 78/100\n",
            "240/240 [==============================] - 0s 953us/step - loss: 26.7850\n",
            "Epoch 79/100\n",
            "240/240 [==============================] - 0s 897us/step - loss: 27.4128\n",
            "Epoch 80/100\n",
            "240/240 [==============================] - 0s 956us/step - loss: 25.9185\n",
            "Epoch 81/100\n",
            "240/240 [==============================] - 0s 938us/step - loss: 28.6413\n",
            "Epoch 82/100\n",
            "240/240 [==============================] - 0s 976us/step - loss: 27.3723\n",
            "Epoch 83/100\n",
            "240/240 [==============================] - 0s 903us/step - loss: 27.0767\n",
            "Epoch 84/100\n",
            "240/240 [==============================] - 0s 938us/step - loss: 26.5266\n",
            "Epoch 85/100\n",
            "240/240 [==============================] - 0s 897us/step - loss: 26.8163\n",
            "Epoch 86/100\n",
            "240/240 [==============================] - 0s 903us/step - loss: 24.6491\n",
            "Epoch 87/100\n",
            "240/240 [==============================] - 0s 1ms/step - loss: 27.5018\n",
            "Epoch 88/100\n",
            "240/240 [==============================] - 0s 924us/step - loss: 26.4680\n",
            "Epoch 89/100\n",
            "240/240 [==============================] - 0s 920us/step - loss: 25.9950\n",
            "Epoch 90/100\n",
            "240/240 [==============================] - 0s 912us/step - loss: 26.8106\n",
            "Epoch 91/100\n",
            "240/240 [==============================] - 0s 950us/step - loss: 25.8430\n",
            "Epoch 92/100\n",
            "240/240 [==============================] - 0s 977us/step - loss: 26.1590\n",
            "Epoch 93/100\n",
            "240/240 [==============================] - 0s 936us/step - loss: 25.2200\n",
            "Epoch 94/100\n",
            "240/240 [==============================] - 0s 921us/step - loss: 26.1165\n",
            "Epoch 95/100\n",
            "240/240 [==============================] - 0s 940us/step - loss: 27.1597\n",
            "Epoch 96/100\n",
            "240/240 [==============================] - 0s 922us/step - loss: 26.4942\n",
            "Epoch 97/100\n",
            "240/240 [==============================] - 0s 937us/step - loss: 26.0901\n",
            "Epoch 98/100\n",
            "240/240 [==============================] - 0s 987us/step - loss: 26.4817\n",
            "Epoch 99/100\n",
            "240/240 [==============================] - 0s 887us/step - loss: 26.3369\n",
            "Epoch 100/100\n",
            "240/240 [==============================] - 0s 924us/step - loss: 26.6558\n"
          ],
          "name": "stdout"
        },
        {
          "output_type": "execute_result",
          "data": {
            "text/plain": [
              "<tensorflow.python.keras.callbacks.History at 0x7f198aca1630>"
            ]
          },
          "metadata": {
            "tags": []
          },
          "execution_count": 17
        }
      ]
    },
    {
      "cell_type": "markdown",
      "metadata": {
        "id": "nOPiQcyLfB-2"
      },
      "source": [
        "##Predicting the test set results"
      ]
    },
    {
      "cell_type": "code",
      "metadata": {
        "colab": {
          "base_uri": "https://localhost:8080/"
        },
        "id": "IFRwXAhPfHYv",
        "outputId": "d0121a5c-8490-467c-bf6a-855276f045d8"
      },
      "source": [
        "ann.predict(X_test)"
      ],
      "execution_count": 18,
      "outputs": [
        {
          "output_type": "execute_result",
          "data": {
            "text/plain": [
              "array([[432.10297],\n",
              "       [463.65903],\n",
              "       [467.38116],\n",
              "       ...,\n",
              "       [474.24384],\n",
              "       [441.6279 ],\n",
              "       [460.61966]], dtype=float32)"
            ]
          },
          "metadata": {
            "tags": []
          },
          "execution_count": 18
        }
      ]
    },
    {
      "cell_type": "code",
      "metadata": {
        "id": "V-3HtjEmfTOW"
      },
      "source": [
        "pred = ann.predict(X_test)"
      ],
      "execution_count": 19,
      "outputs": []
    },
    {
      "cell_type": "markdown",
      "metadata": {
        "id": "v_TybcSBfXD_"
      },
      "source": [
        "##Evaluating the Test Set results"
      ]
    },
    {
      "cell_type": "code",
      "metadata": {
        "id": "caLmuBIefWB1"
      },
      "source": [
        "from sklearn.metrics import mean_squared_error,mean_absolute_error,r2_score,auc,roc_curve"
      ],
      "execution_count": 20,
      "outputs": []
    },
    {
      "cell_type": "code",
      "metadata": {
        "colab": {
          "base_uri": "https://localhost:8080/"
        },
        "id": "XBCfMZKIfslA",
        "outputId": "be41b800-059a-416e-9fb5-6c6d512bc6d0"
      },
      "source": [
        "print(mean_squared_error(y_test,pred))\r\n",
        "print('\\n')\r\n",
        "print(mean_absolute_error(y_test,pred))\r\n",
        "print('\\n')\r\n",
        "print(r2_score(y_test,pred))\r\n",
        "print('\\n')\r\n"
      ],
      "execution_count": 23,
      "outputs": [
        {
          "output_type": "stream",
          "text": [
            "26.014346159935922\n",
            "\n",
            "\n",
            "4.099287897028271\n",
            "\n",
            "\n",
            "0.9110583655034566\n",
            "\n",
            "\n"
          ],
          "name": "stdout"
        }
      ]
    },
    {
      "cell_type": "code",
      "metadata": {
        "id": "TbunibJ1f8ok"
      },
      "source": [
        ""
      ],
      "execution_count": null,
      "outputs": []
    }
  ]
}