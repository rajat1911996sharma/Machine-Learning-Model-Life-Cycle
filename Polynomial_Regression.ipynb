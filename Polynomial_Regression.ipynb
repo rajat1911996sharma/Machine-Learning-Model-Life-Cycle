{
  "nbformat": 4,
  "nbformat_minor": 0,
  "metadata": {
    "colab": {
      "name": "Polynomial Regression.ipynb",
      "provenance": [],
      "collapsed_sections": [],
      "authorship_tag": "ABX9TyN/+SWY9wwzeA3fraNVl/ut",
      "include_colab_link": true
    },
    "kernelspec": {
      "name": "python3",
      "display_name": "Python 3"
    }
  },
  "cells": [
    {
      "cell_type": "markdown",
      "metadata": {
        "id": "view-in-github",
        "colab_type": "text"
      },
      "source": [
        "<a href=\"https://colab.research.google.com/github/rajat1911996sharma/Machine-Learning-Model-Life-Cycle/blob/main/Polynomial_Regression.ipynb\" target=\"_parent\"><img src=\"https://colab.research.google.com/assets/colab-badge.svg\" alt=\"Open In Colab\"/></a>"
      ]
    },
    {
      "cell_type": "markdown",
      "metadata": {
        "id": "DewGsIkAsFp8"
      },
      "source": [
        "#Polynomial Regression"
      ]
    },
    {
      "cell_type": "markdown",
      "metadata": {
        "id": "Xb-v8I94sJSm"
      },
      "source": [
        "#Data Preprocessing"
      ]
    },
    {
      "cell_type": "markdown",
      "metadata": {
        "id": "s4ssaGOEsdMv"
      },
      "source": [
        "#Importing Libraries"
      ]
    },
    {
      "cell_type": "code",
      "metadata": {
        "id": "fia-pL_Up5ZK"
      },
      "source": [
        "#Polynomial Regression is still called linear\n",
        "'''\n",
        "it refers to coefficients because you can figure out the values while plugging \n",
        "the values\n",
        "\n",
        "Polynomial Regression is used in many organizations when they identify \n",
        "a nonlinear relationship between the independent and dependent variables.\n",
        "\n",
        "\n",
        "We try to hire someone and then we try to negotiate the salary expectaions\n",
        "160000 in previous company\n",
        "is that true or false ?\n",
        "we will find it out\n",
        "'''\n",
        "\n",
        "import numpy as np\n",
        "import pandas as pd\n",
        "import matplotlib.pyplot as plt\n",
        "import seaborn as sns\n",
        "%matplotlib inline"
      ],
      "execution_count": 52,
      "outputs": []
    },
    {
      "cell_type": "code",
      "metadata": {
        "id": "kcemZI8dsqEr"
      },
      "source": [
        "df = pd.read_csv('Position_Salaries.csv')"
      ],
      "execution_count": 53,
      "outputs": []
    },
    {
      "cell_type": "code",
      "metadata": {
        "colab": {
          "base_uri": "https://localhost:8080/",
          "height": 195
        },
        "id": "p91biBA2swqX",
        "outputId": "ee82e078-9f5f-4677-b4b1-e6e12a9c273b"
      },
      "source": [
        "df.head()"
      ],
      "execution_count": 54,
      "outputs": [
        {
          "output_type": "execute_result",
          "data": {
            "text/html": [
              "<div>\n",
              "<style scoped>\n",
              "    .dataframe tbody tr th:only-of-type {\n",
              "        vertical-align: middle;\n",
              "    }\n",
              "\n",
              "    .dataframe tbody tr th {\n",
              "        vertical-align: top;\n",
              "    }\n",
              "\n",
              "    .dataframe thead th {\n",
              "        text-align: right;\n",
              "    }\n",
              "</style>\n",
              "<table border=\"1\" class=\"dataframe\">\n",
              "  <thead>\n",
              "    <tr style=\"text-align: right;\">\n",
              "      <th></th>\n",
              "      <th>Position</th>\n",
              "      <th>Level</th>\n",
              "      <th>Salary</th>\n",
              "    </tr>\n",
              "  </thead>\n",
              "  <tbody>\n",
              "    <tr>\n",
              "      <th>0</th>\n",
              "      <td>Business Analyst</td>\n",
              "      <td>1</td>\n",
              "      <td>45000</td>\n",
              "    </tr>\n",
              "    <tr>\n",
              "      <th>1</th>\n",
              "      <td>Junior Consultant</td>\n",
              "      <td>2</td>\n",
              "      <td>50000</td>\n",
              "    </tr>\n",
              "    <tr>\n",
              "      <th>2</th>\n",
              "      <td>Senior Consultant</td>\n",
              "      <td>3</td>\n",
              "      <td>60000</td>\n",
              "    </tr>\n",
              "    <tr>\n",
              "      <th>3</th>\n",
              "      <td>Manager</td>\n",
              "      <td>4</td>\n",
              "      <td>80000</td>\n",
              "    </tr>\n",
              "    <tr>\n",
              "      <th>4</th>\n",
              "      <td>Country Manager</td>\n",
              "      <td>5</td>\n",
              "      <td>110000</td>\n",
              "    </tr>\n",
              "  </tbody>\n",
              "</table>\n",
              "</div>"
            ],
            "text/plain": [
              "            Position  Level  Salary\n",
              "0   Business Analyst      1   45000\n",
              "1  Junior Consultant      2   50000\n",
              "2  Senior Consultant      3   60000\n",
              "3            Manager      4   80000\n",
              "4    Country Manager      5  110000"
            ]
          },
          "metadata": {
            "tags": []
          },
          "execution_count": 54
        }
      ]
    },
    {
      "cell_type": "code",
      "metadata": {
        "colab": {
          "base_uri": "https://localhost:8080/",
          "height": 343
        },
        "id": "1SWUI5R3syrc",
        "outputId": "bd77317d-03bb-4a0a-a979-799699792d13"
      },
      "source": [
        "df"
      ],
      "execution_count": 55,
      "outputs": [
        {
          "output_type": "execute_result",
          "data": {
            "text/html": [
              "<div>\n",
              "<style scoped>\n",
              "    .dataframe tbody tr th:only-of-type {\n",
              "        vertical-align: middle;\n",
              "    }\n",
              "\n",
              "    .dataframe tbody tr th {\n",
              "        vertical-align: top;\n",
              "    }\n",
              "\n",
              "    .dataframe thead th {\n",
              "        text-align: right;\n",
              "    }\n",
              "</style>\n",
              "<table border=\"1\" class=\"dataframe\">\n",
              "  <thead>\n",
              "    <tr style=\"text-align: right;\">\n",
              "      <th></th>\n",
              "      <th>Position</th>\n",
              "      <th>Level</th>\n",
              "      <th>Salary</th>\n",
              "    </tr>\n",
              "  </thead>\n",
              "  <tbody>\n",
              "    <tr>\n",
              "      <th>0</th>\n",
              "      <td>Business Analyst</td>\n",
              "      <td>1</td>\n",
              "      <td>45000</td>\n",
              "    </tr>\n",
              "    <tr>\n",
              "      <th>1</th>\n",
              "      <td>Junior Consultant</td>\n",
              "      <td>2</td>\n",
              "      <td>50000</td>\n",
              "    </tr>\n",
              "    <tr>\n",
              "      <th>2</th>\n",
              "      <td>Senior Consultant</td>\n",
              "      <td>3</td>\n",
              "      <td>60000</td>\n",
              "    </tr>\n",
              "    <tr>\n",
              "      <th>3</th>\n",
              "      <td>Manager</td>\n",
              "      <td>4</td>\n",
              "      <td>80000</td>\n",
              "    </tr>\n",
              "    <tr>\n",
              "      <th>4</th>\n",
              "      <td>Country Manager</td>\n",
              "      <td>5</td>\n",
              "      <td>110000</td>\n",
              "    </tr>\n",
              "    <tr>\n",
              "      <th>5</th>\n",
              "      <td>Region Manager</td>\n",
              "      <td>6</td>\n",
              "      <td>150000</td>\n",
              "    </tr>\n",
              "    <tr>\n",
              "      <th>6</th>\n",
              "      <td>Partner</td>\n",
              "      <td>7</td>\n",
              "      <td>200000</td>\n",
              "    </tr>\n",
              "    <tr>\n",
              "      <th>7</th>\n",
              "      <td>Senior Partner</td>\n",
              "      <td>8</td>\n",
              "      <td>300000</td>\n",
              "    </tr>\n",
              "    <tr>\n",
              "      <th>8</th>\n",
              "      <td>C-level</td>\n",
              "      <td>9</td>\n",
              "      <td>500000</td>\n",
              "    </tr>\n",
              "    <tr>\n",
              "      <th>9</th>\n",
              "      <td>CEO</td>\n",
              "      <td>10</td>\n",
              "      <td>1000000</td>\n",
              "    </tr>\n",
              "  </tbody>\n",
              "</table>\n",
              "</div>"
            ],
            "text/plain": [
              "            Position  Level   Salary\n",
              "0   Business Analyst      1    45000\n",
              "1  Junior Consultant      2    50000\n",
              "2  Senior Consultant      3    60000\n",
              "3            Manager      4    80000\n",
              "4    Country Manager      5   110000\n",
              "5     Region Manager      6   150000\n",
              "6            Partner      7   200000\n",
              "7     Senior Partner      8   300000\n",
              "8            C-level      9   500000\n",
              "9                CEO     10  1000000"
            ]
          },
          "metadata": {
            "tags": []
          },
          "execution_count": 55
        }
      ]
    },
    {
      "cell_type": "code",
      "metadata": {
        "id": "ZyUN3fBwuCyU"
      },
      "source": [
        "#X = df['Level'].values\n",
        "X = df.iloc[:, 1:-1].values\n",
        "#y = df['Salary'].values\n",
        "y = df.iloc[:, -1].values"
      ],
      "execution_count": 56,
      "outputs": []
    },
    {
      "cell_type": "code",
      "metadata": {
        "colab": {
          "base_uri": "https://localhost:8080/"
        },
        "id": "XyynxWnHvba5",
        "outputId": "0cff5e86-eb2e-4474-858f-1be6b375c5a6"
      },
      "source": [
        "X.shape"
      ],
      "execution_count": 57,
      "outputs": [
        {
          "output_type": "execute_result",
          "data": {
            "text/plain": [
              "(10, 1)"
            ]
          },
          "metadata": {
            "tags": []
          },
          "execution_count": 57
        }
      ]
    },
    {
      "cell_type": "code",
      "metadata": {
        "colab": {
          "base_uri": "https://localhost:8080/"
        },
        "id": "q4zoFz-pvd3F",
        "outputId": "f3842a7d-f64c-4b0d-d28b-56918963ecaf"
      },
      "source": [
        "y.shape"
      ],
      "execution_count": 58,
      "outputs": [
        {
          "output_type": "execute_result",
          "data": {
            "text/plain": [
              "(10,)"
            ]
          },
          "metadata": {
            "tags": []
          },
          "execution_count": 58
        }
      ]
    },
    {
      "cell_type": "markdown",
      "metadata": {
        "id": "hdiB51FmtlzV"
      },
      "source": [
        "#Training the Linear Regression model on the whole dataset"
      ]
    },
    {
      "cell_type": "code",
      "metadata": {
        "colab": {
          "base_uri": "https://localhost:8080/"
        },
        "id": "xoboc0eptY-c",
        "outputId": "13115758-02ba-4f9a-8a54-3ea6d88c7fa0"
      },
      "source": [
        "'''\n",
        "we take all the data and no data split\n",
        "'''\n",
        "from sklearn.linear_model import LinearRegression\n",
        "lr = LinearRegression()\n",
        "lr.fit(X, y)"
      ],
      "execution_count": 59,
      "outputs": [
        {
          "output_type": "execute_result",
          "data": {
            "text/plain": [
              "LinearRegression(copy_X=True, fit_intercept=True, n_jobs=None, normalize=False)"
            ]
          },
          "metadata": {
            "tags": []
          },
          "execution_count": 59
        }
      ]
    },
    {
      "cell_type": "markdown",
      "metadata": {
        "id": "Ofh7Uj7sw9lu"
      },
      "source": [
        "#Training the Polynomial Regresion Model on the whole Dataset"
      ]
    },
    {
      "cell_type": "code",
      "metadata": {
        "colab": {
          "base_uri": "https://localhost:8080/",
          "height": 35
        },
        "id": "E6Ia618OuogJ",
        "outputId": "2fc338d2-af95-45dc-f517-37aa2f60148a"
      },
      "source": [
        "from sklearn.preprocessing import PolynomialFeatures\n",
        "pr = PolynomialFeatures(degree = 2)\n",
        "#Degree of the equation is 2   (X^2)\n",
        "\n",
        "X_poly = pr.fit_transform(X)\n",
        "'''\n",
        "Imagine the equation as y = b0*x1 + b1*(x2^2)\n",
        "'''\n",
        "# Now, we will fit this into our linear regression model"
      ],
      "execution_count": 60,
      "outputs": [
        {
          "output_type": "execute_result",
          "data": {
            "application/vnd.google.colaboratory.intrinsic+json": {
              "type": "string"
            },
            "text/plain": [
              "'\\nImagine the equation as y = b0*x1 + b1*(x2^2)\\n'"
            ]
          },
          "metadata": {
            "tags": []
          },
          "execution_count": 60
        }
      ]
    },
    {
      "cell_type": "code",
      "metadata": {
        "colab": {
          "base_uri": "https://localhost:8080/"
        },
        "id": "5I30tSPoymkO",
        "outputId": "77b6ac9c-b652-4cee-a08b-74eb0e6bfd93"
      },
      "source": [
        "lr2 = LinearRegression()\n",
        "lr2.fit(X_poly,y)"
      ],
      "execution_count": 61,
      "outputs": [
        {
          "output_type": "execute_result",
          "data": {
            "text/plain": [
              "LinearRegression(copy_X=True, fit_intercept=True, n_jobs=None, normalize=False)"
            ]
          },
          "metadata": {
            "tags": []
          },
          "execution_count": 61
        }
      ]
    },
    {
      "cell_type": "markdown",
      "metadata": {
        "id": "_4X-zP5ky3bf"
      },
      "source": [
        "#Visualizing the Linear Regresion results"
      ]
    },
    {
      "cell_type": "code",
      "metadata": {
        "colab": {
          "base_uri": "https://localhost:8080/",
          "height": 312
        },
        "id": "brHNg5djy1iY",
        "outputId": "db9fb0ed-b48e-4dba-c2b6-8a055c4fefb5"
      },
      "source": [
        "\n",
        "plt.scatter(X,y)\n",
        "plt.plot(X, lr.predict(X))\n",
        "plt.title('Truth or Bluff (Linear regression)')\n",
        "plt.xlabel('Position Level')\n",
        "plt.ylabel('Salary')"
      ],
      "execution_count": 63,
      "outputs": [
        {
          "output_type": "execute_result",
          "data": {
            "text/plain": [
              "Text(0, 0.5, 'Salary')"
            ]
          },
          "metadata": {
            "tags": []
          },
          "execution_count": 63
        },
        {
          "output_type": "display_data",
          "data": {
            "image/png": "[encoded data removed]",
            "text/plain": [
              "<Figure size 432x288 with 1 Axes>"
            ]
          },
          "metadata": {
            "tags": [],
            "needs_background": "light"
          }
        }
      ]
    },
    {
      "cell_type": "code",
      "metadata": {
        "colab": {
          "base_uri": "https://localhost:8080/",
          "height": 312
        },
        "id": "DI7UDRfEzb0z",
        "outputId": "128959f7-4288-4d85-c103-2b9ffe7bdb03"
      },
      "source": [
        "sns.scatterplot(x=df['Level'],y=df['Salary'],data=df)\n",
        "plt.plot(X, lr.predict(X))\n",
        "plt.title('Truth or Bluff (Linear regression)')\n",
        "plt.xlabel('Position Level')\n",
        "plt.ylabel('Salary')"
      ],
      "execution_count": 67,
      "outputs": [
        {
          "output_type": "execute_result",
          "data": {
            "text/plain": [
              "Text(0, 0.5, 'Salary')"
            ]
          },
          "metadata": {
            "tags": []
          },
          "execution_count": 67
        },
        {
          "output_type": "display_data",
          "data": {
            "image/png": "[encoded data removed]",
            "text/plain": [
              "<Figure size 432x288 with 1 Axes>"
            ]
          },
          "metadata": {
            "tags": [],
            "needs_background": "light"
          }
        }
      ]
    },
    {
      "cell_type": "code",
      "metadata": {
        "colab": {
          "base_uri": "https://localhost:8080/",
          "height": 312
        },
        "id": "8Fl_P8yQ2Uxg",
        "outputId": "2da67f27-51b7-471b-a0f2-9927ca2a3ffc"
      },
      "source": [
        "sns.regplot(x=df['Level'],y=df['Salary'],data=df)\n",
        "plt.plot(X, lr.predict(X))\n",
        "plt.title('Truth or Bluff (Linear regression)')\n",
        "plt.xlabel('Position Level')\n",
        "plt.ylabel('Salary')"
      ],
      "execution_count": 68,
      "outputs": [
        {
          "output_type": "execute_result",
          "data": {
            "text/plain": [
              "Text(0, 0.5, 'Salary')"
            ]
          },
          "metadata": {
            "tags": []
          },
          "execution_count": 68
        },
        {
          "output_type": "display_data",
          "data": {
            "image/png": "[encoded data removed]",
            "text/plain": [
              "<Figure size 432x288 with 1 Axes>"
            ]
          },
          "metadata": {
            "tags": [],
            "needs_background": "light"
          }
        }
      ]
    },
    {
      "cell_type": "markdown",
      "metadata": {
        "id": "oVOBotDa3UP5"
      },
      "source": [
        "#Visualizing the Polynomial Results"
      ]
    },
    {
      "cell_type": "code",
      "metadata": {
        "colab": {
          "base_uri": "https://localhost:8080/",
          "height": 312
        },
        "id": "dNbHIA2R3Tx4",
        "outputId": "cb57463b-4e69-4297-f761-51a55f321e23"
      },
      "source": [
        "sns.regplot(x=df['Level'],y=df['Salary'],data=df,order=2)\n",
        "plt.plot(X, lr2.predict(X_poly))\n",
        "plt.title('Truth or Bluff (Linear regression)')\n",
        "plt.xlabel('Position Level')\n",
        "plt.ylabel('Salary')"
      ],
      "execution_count": 70,
      "outputs": [
        {
          "output_type": "execute_result",
          "data": {
            "text/plain": [
              "Text(0, 0.5, 'Salary')"
            ]
          },
          "metadata": {
            "tags": []
          },
          "execution_count": 70
        },
        {
          "output_type": "display_data",
          "data": {
            "image/png": "[encoded data removed]",
            "text/plain": [
              "<Figure size 432x288 with 1 Axes>"
            ]
          },
          "metadata": {
            "tags": [],
            "needs_background": "light"
          }
        }
      ]
    },
    {
      "cell_type": "markdown",
      "metadata": {
        "id": "4KnK6No04mBS"
      },
      "source": [
        "##For even Higher degree polynomials"
      ]
    },
    {
      "cell_type": "code",
      "metadata": {
        "colab": {
          "base_uri": "https://localhost:8080/"
        },
        "id": "DzK_jMmW3pLp",
        "outputId": "1859e26b-183e-49d7-a35d-a53a876ef5b3"
      },
      "source": [
        "#degree 3\n",
        "from sklearn.preprocessing import PolynomialFeatures\n",
        "pr = PolynomialFeatures(degree = 3)\n",
        "X_poly = pr.fit_transform(X)\n",
        "lr3 = LinearRegression()\n",
        "lr3.fit(X_poly,y)"
      ],
      "execution_count": 108,
      "outputs": [
        {
          "output_type": "execute_result",
          "data": {
            "text/plain": [
              "LinearRegression(copy_X=True, fit_intercept=True, n_jobs=None, normalize=False)"
            ]
          },
          "metadata": {
            "tags": []
          },
          "execution_count": 108
        }
      ]
    },
    {
      "cell_type": "code",
      "metadata": {
        "colab": {
          "base_uri": "https://localhost:8080/",
          "height": 312
        },
        "id": "dx-txNck4100",
        "outputId": "16692f0d-0bfe-44c3-9526-a87e5a45a987"
      },
      "source": [
        "sns.regplot(x=df['Level'],y=df['Salary'],data=df,order=3)\n",
        "plt.plot(X, lr3.predict(X_poly))\n",
        "plt.title('Truth or Bluff (Linear regression)')\n",
        "plt.xlabel('Position Level')\n",
        "plt.ylabel('Salary')"
      ],
      "execution_count": 109,
      "outputs": [
        {
          "output_type": "execute_result",
          "data": {
            "text/plain": [
              "Text(0, 0.5, 'Salary')"
            ]
          },
          "metadata": {
            "tags": []
          },
          "execution_count": 109
        },
        {
          "output_type": "display_data",
          "data": {
            "image/png": "[encoded data removed]",
            "text/plain": [
              "<Figure size 432x288 with 1 Axes>"
            ]
          },
          "metadata": {
            "tags": [],
            "needs_background": "light"
          }
        }
      ]
    },
    {
      "cell_type": "code",
      "metadata": {
        "colab": {
          "base_uri": "https://localhost:8080/",
          "height": 802
        },
        "id": "oWqmGhYc5A2z",
        "outputId": "4fddcfb4-0ebf-46d8-b180-fc7f3c8549cf"
      },
      "source": [
        "#degree 4\n",
        "from sklearn.preprocessing import PolynomialFeatures\n",
        "pr = PolynomialFeatures(degree = 4)\n",
        "X_poly = pr.fit_transform(X)\n",
        "lr4 = LinearRegression()\n",
        "lr4.fit(X_poly,y)\n",
        "sns.regplot(x=df['Level'],y=df['Salary'],data=df,order=4)\n",
        "plt.plot(X, lr4.predict(X_poly))\n",
        "plt.title('Truth or Bluff (Linear regression)')\n",
        "plt.xlabel('Position Level')\n",
        "plt.ylabel('Salary')"
      ],
      "execution_count": 110,
      "outputs": [
        {
          "output_type": "stream",
          "text": [
            "/usr/local/lib/python3.6/dist-packages/seaborn/algorithms.py:85: RankWarning: Polyfit may be poorly conditioned\n",
            "  boot_dist.append(f(*sample, **func_kwargs))\n",
            "/usr/local/lib/python3.6/dist-packages/seaborn/algorithms.py:85: RankWarning: Polyfit may be poorly conditioned\n",
            "  boot_dist.append(f(*sample, **func_kwargs))\n",
            "/usr/local/lib/python3.6/dist-packages/seaborn/algorithms.py:85: RankWarning: Polyfit may be poorly conditioned\n",
            "  boot_dist.append(f(*sample, **func_kwargs))\n",
            "/usr/local/lib/python3.6/dist-packages/seaborn/algorithms.py:85: RankWarning: Polyfit may be poorly conditioned\n",
            "  boot_dist.append(f(*sample, **func_kwargs))\n",
            "/usr/local/lib/python3.6/dist-packages/seaborn/algorithms.py:85: RankWarning: Polyfit may be poorly conditioned\n",
            "  boot_dist.append(f(*sample, **func_kwargs))\n",
            "/usr/local/lib/python3.6/dist-packages/seaborn/algorithms.py:85: RankWarning: Polyfit may be poorly conditioned\n",
            "  boot_dist.append(f(*sample, **func_kwargs))\n",
            "/usr/local/lib/python3.6/dist-packages/seaborn/algorithms.py:85: RankWarning: Polyfit may be poorly conditioned\n",
            "  boot_dist.append(f(*sample, **func_kwargs))\n",
            "/usr/local/lib/python3.6/dist-packages/seaborn/algorithms.py:85: RankWarning: Polyfit may be poorly conditioned\n",
            "  boot_dist.append(f(*sample, **func_kwargs))\n",
            "/usr/local/lib/python3.6/dist-packages/seaborn/algorithms.py:85: RankWarning: Polyfit may be poorly conditioned\n",
            "  boot_dist.append(f(*sample, **func_kwargs))\n",
            "/usr/local/lib/python3.6/dist-packages/seaborn/algorithms.py:85: RankWarning: Polyfit may be poorly conditioned\n",
            "  boot_dist.append(f(*sample, **func_kwargs))\n",
            "/usr/local/lib/python3.6/dist-packages/seaborn/algorithms.py:85: RankWarning: Polyfit may be poorly conditioned\n",
            "  boot_dist.append(f(*sample, **func_kwargs))\n",
            "/usr/local/lib/python3.6/dist-packages/seaborn/algorithms.py:85: RankWarning: Polyfit may be poorly conditioned\n",
            "  boot_dist.append(f(*sample, **func_kwargs))\n",
            "/usr/local/lib/python3.6/dist-packages/seaborn/algorithms.py:85: RankWarning: Polyfit may be poorly conditioned\n",
            "  boot_dist.append(f(*sample, **func_kwargs))\n",
            "/usr/local/lib/python3.6/dist-packages/seaborn/algorithms.py:85: RankWarning: Polyfit may be poorly conditioned\n",
            "  boot_dist.append(f(*sample, **func_kwargs))\n"
          ],
          "name": "stderr"
        },
        {
          "output_type": "execute_result",
          "data": {
            "text/plain": [
              "Text(0, 0.5, 'Salary')"
            ]
          },
          "metadata": {
            "tags": []
          },
          "execution_count": 110
        },
        {
          "output_type": "display_data",
          "data": {
            "image/png": "[encoded data removed]",
            "text/plain": [
              "<Figure size 432x288 with 1 Axes>"
            ]
          },
          "metadata": {
            "tags": [],
            "needs_background": "light"
          }
        }
      ]
    },
    {
      "cell_type": "markdown",
      "metadata": {
        "id": "D_8KSOQv5ggM"
      },
      "source": [
        "#Predicting Results with Linear Regression"
      ]
    },
    {
      "cell_type": "code",
      "metadata": {
        "colab": {
          "base_uri": "https://localhost:8080/"
        },
        "id": "UWLYBwdo5SLj",
        "outputId": "0321a6c9-d76c-4400-b136-1a8d6286a007"
      },
      "source": [
        "lr.predict([[6.5]])"
      ],
      "execution_count": 76,
      "outputs": [
        {
          "output_type": "execute_result",
          "data": {
            "text/plain": [
              "array([330378.78787879])"
            ]
          },
          "metadata": {
            "tags": []
          },
          "execution_count": 76
        }
      ]
    },
    {
      "cell_type": "markdown",
      "metadata": {
        "id": "wWI6Gfee5zYn"
      },
      "source": [
        "#Predicting Results with Polynomial Regression"
      ]
    },
    {
      "cell_type": "code",
      "metadata": {
        "colab": {
          "base_uri": "https://localhost:8080/"
        },
        "id": "8PZe_LvE5xby",
        "outputId": "aed13fe6-d8a9-4790-a07c-c0ee96bb4262"
      },
      "source": [
        "new_salary = pr.fit_transform([[6.5]])\n",
        "new_salary.shape\n",
        "\n"
      ],
      "execution_count": 116,
      "outputs": [
        {
          "output_type": "execute_result",
          "data": {
            "text/plain": [
              "(1, 5)"
            ]
          },
          "metadata": {
            "tags": []
          },
          "execution_count": 116
        }
      ]
    },
    {
      "cell_type": "code",
      "metadata": {
        "colab": {
          "base_uri": "https://localhost:8080/"
        },
        "id": "ai0LY14Q9jUI",
        "outputId": "22379791-b3ec-4a5e-e7bb-8517c5b07408"
      },
      "source": [
        "lr4.predict(new_salary)"
      ],
      "execution_count": 125,
      "outputs": [
        {
          "output_type": "execute_result",
          "data": {
            "text/plain": [
              "array([158862.45265155])"
            ]
          },
          "metadata": {
            "tags": []
          },
          "execution_count": 125
        }
      ]
    },
    {
      "cell_type": "code",
      "metadata": {
        "id": "mGxgCY3YCulk"
      },
      "source": [
        ""
      ],
      "execution_count": null,
      "outputs": []
    }
  ]
}