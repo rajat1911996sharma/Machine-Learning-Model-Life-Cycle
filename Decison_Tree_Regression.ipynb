{
  "nbformat": 4,
  "nbformat_minor": 0,
  "metadata": {
    "colab": {
      "name": "Decison Tree Regression.ipynb",
      "provenance": [],
      "collapsed_sections": [],
      "authorship_tag": "ABX9TyN+7jxjwklOYpqfJc6QUTTO",
      "include_colab_link": true
    },
    "kernelspec": {
      "name": "python3",
      "display_name": "Python 3"
    }
  },
  "cells": [
    {
      "cell_type": "markdown",
      "metadata": {
        "id": "view-in-github",
        "colab_type": "text"
      },
      "source": [
        "<a href=\"https://colab.research.google.com/github/rajat1911996sharma/Machine-Learning-Model-Life-Cycle/blob/main/Decison_Tree_Regression.ipynb\" target=\"_parent\"><img src=\"https://colab.research.google.com/assets/colab-badge.svg\" alt=\"Open In Colab\"/></a>"
      ]
    },
    {
      "cell_type": "markdown",
      "metadata": {
        "id": "e8tG7DzehDlg"
      },
      "source": [
        "#Decision Tree Regression\n",
        "\n",
        "'''\n",
        "They are harder than classification trees to understand\n",
        "\n",
        "we have X1 and X2 and we predict Y is on the z-axis of the plane.\n",
        "\n",
        "Data is split by mathematical entropy\n",
        "\n",
        "Accurate Scatterplot with differing means are used for regression as a decision tree.\n",
        "'''"
      ]
    },
    {
      "cell_type": "markdown",
      "metadata": {
        "id": "8PtHgw-OlR3L"
      },
      "source": [
        "#Data Preprocessing"
      ]
    },
    {
      "cell_type": "markdown",
      "metadata": {
        "id": "Kw9o9qyolVLd"
      },
      "source": [
        "##Importing Libraries"
      ]
    },
    {
      "cell_type": "code",
      "metadata": {
        "id": "vvvcUa6PgU-q"
      },
      "source": [
        "import numpy as np\n",
        "import pandas as pd\n",
        "import matplotlib.pyplot as plt\n",
        "import seaborn as sns\n",
        "%matplotlib inline"
      ],
      "execution_count": 1,
      "outputs": []
    },
    {
      "cell_type": "markdown",
      "metadata": {
        "id": "KAQFEQCfmFrA"
      },
      "source": [
        "##Importing Dataset"
      ]
    },
    {
      "cell_type": "code",
      "metadata": {
        "id": "rPTZLnZYmBIU"
      },
      "source": [
        "df = pd.read_csv('Position_Salaries.csv')\n"
      ],
      "execution_count": 2,
      "outputs": []
    },
    {
      "cell_type": "code",
      "metadata": {
        "id": "qUE9uSmJmWRc"
      },
      "source": [
        "X = df.iloc[:, 1:-1].values\n",
        "y = df.iloc[:, -1].values"
      ],
      "execution_count": 3,
      "outputs": []
    },
    {
      "cell_type": "markdown",
      "metadata": {
        "id": "E9l5VlvWmtOm"
      },
      "source": [
        "##Training the Decision Tree Regression model on the whole dataset"
      ]
    },
    {
      "cell_type": "code",
      "metadata": {
        "colab": {
          "base_uri": "https://localhost:8080/"
        },
        "id": "xJMq6G1Omi4D",
        "outputId": "5ea32069-db89-47a0-acf2-d3d0d9068dc1"
      },
      "source": [
        "from sklearn.tree import DecisionTreeRegressor\n",
        "dtr = DecisionTreeRegressor(random_state = 1)\n",
        "dtr.fit(X,y)"
      ],
      "execution_count": 6,
      "outputs": [
        {
          "output_type": "execute_result",
          "data": {
            "text/plain": [
              "DecisionTreeRegressor(ccp_alpha=0.0, criterion='mse', max_depth=None,\n",
              "                      max_features=None, max_leaf_nodes=None,\n",
              "                      min_impurity_decrease=0.0, min_impurity_split=None,\n",
              "                      min_samples_leaf=1, min_samples_split=2,\n",
              "                      min_weight_fraction_leaf=0.0, presort='deprecated',\n",
              "                      random_state=1, splitter='best')"
            ]
          },
          "metadata": {
            "tags": []
          },
          "execution_count": 6
        }
      ]
    },
    {
      "cell_type": "markdown",
      "metadata": {
        "id": "77eNd8v8qpM7"
      },
      "source": [
        "#Predicting a new result"
      ]
    },
    {
      "cell_type": "code",
      "metadata": {
        "colab": {
          "base_uri": "https://localhost:8080/"
        },
        "id": "PueBIgK6n-PK",
        "outputId": "9c84e155-8cdf-4662-bce9-5f9126264e20"
      },
      "source": [
        "dtr.predict([[6.5]])"
      ],
      "execution_count": 7,
      "outputs": [
        {
          "output_type": "execute_result",
          "data": {
            "text/plain": [
              "array([150000.])"
            ]
          },
          "metadata": {
            "tags": []
          },
          "execution_count": 7
        }
      ]
    },
    {
      "cell_type": "markdown",
      "metadata": {
        "id": "s41urkmSrIt-"
      },
      "source": [
        "#Visulaization the Decision Tree Regression results (Higher Resolution)"
      ]
    },
    {
      "cell_type": "code",
      "metadata": {
        "colab": {
          "base_uri": "https://localhost:8080/",
          "height": 312
        },
        "id": "9Rf794NBrG4W",
        "outputId": "0d9733f1-88b7-4de7-bd1c-1e2a73eb7abc"
      },
      "source": [
        "'''\n",
        "It is used for higher dimensional dataset\n",
        "'''\n",
        "\n",
        "X_grid = np.arange(min(X),max(X),0.1)\n",
        "X_grid = X_grid.reshape((len(X_grid),1))\n",
        "sns.regplot(x = X, y = y, data = df )\n",
        "plt.plot(X_grid, dtr.predict(X_grid))\n",
        "plt.title('Truth or Bluff (Decision Tree Regresion)')\n",
        "plt.xlabel('Position Level')\n",
        "plt.ylabel('Salary')\n"
      ],
      "execution_count": 14,
      "outputs": [
        {
          "output_type": "execute_result",
          "data": {
            "text/plain": [
              "Text(0, 0.5, 'Salary')"
            ]
          },
          "metadata": {
            "tags": []
          },
          "execution_count": 14
        },
        {
          "output_type": "display_data",
          "data": {
            "image/png": "[encoded data removed]",
            "text/plain": [
              "<Figure size 432x288 with 1 Axes>"
            ]
          },
          "metadata": {
            "tags": [],
            "needs_background": "light"
          }
        }
      ]
    },
    {
      "cell_type": "code",
      "metadata": {
        "id": "42kru4SespxK"
      },
      "source": [
        ""
      ],
      "execution_count": null,
      "outputs": []
    }
  ]
}