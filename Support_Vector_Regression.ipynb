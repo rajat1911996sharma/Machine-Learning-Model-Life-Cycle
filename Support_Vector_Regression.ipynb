{
  "nbformat": 4,
  "nbformat_minor": 0,
  "metadata": {
    "colab": {
      "name": "Support Vector Regression.ipynb",
      "provenance": [],
      "collapsed_sections": [],
      "authorship_tag": "ABX9TyPXXTTqtx9PZ4Fn1CI7Uc9u",
      "include_colab_link": true
    },
    "kernelspec": {
      "name": "python3",
      "display_name": "Python 3"
    }
  },
  "cells": [
    {
      "cell_type": "markdown",
      "metadata": {
        "id": "view-in-github",
        "colab_type": "text"
      },
      "source": [
        "<a href=\"https://colab.research.google.com/github/rajat1911996sharma/Machine-Learning-Model-Life-Cycle/blob/main/Support_Vector_Regression.ipynb\" target=\"_parent\"><img src=\"https://colab.research.google.com/assets/colab-badge.svg\" alt=\"Open In Colab\"/></a>"
      ]
    },
    {
      "cell_type": "markdown",
      "metadata": {
        "id": "TyDggc-2HKSS"
      },
      "source": [
        "##Support Vector Regressor\n",
        "\n",
        "'''\n",
        "instead of linear reg. \n",
        "where we care about distances from the center reg line\n",
        "\n",
        "here we have a tube like struc.\n",
        "that means that reg line with a thershold basically a cylinder is allowed but now we care about the values outside this tube\n",
        "\n",
        "epsilon-Insensitive Tube\n",
        "\n",
        "It is called Support Vector Regression because the vectors, the data points, dictate how we form this tube\n",
        "'''"
      ]
    },
    {
      "cell_type": "markdown",
      "metadata": {
        "id": "8M6zArxIImNa"
      },
      "source": [
        "'''\n",
        "Non-linear SVR\n",
        "\n",
        "it is more complex to interpret\n",
        "'''"
      ]
    },
    {
      "cell_type": "markdown",
      "metadata": {
        "id": "zBbLsQZLKNfy"
      },
      "source": [
        "##Importing the LIbraries"
      ]
    },
    {
      "cell_type": "code",
      "metadata": {
        "id": "5iJCdRAPGPJ9"
      },
      "source": [
        "import numpy as np\n",
        "import pandas as pd\n",
        "import matplotlib.pyplot as plt\n",
        "import seaborn as sns\n",
        "%matplotlib inline"
      ],
      "execution_count": 1,
      "outputs": []
    },
    {
      "cell_type": "markdown",
      "metadata": {
        "id": "geepAwFFKd7S"
      },
      "source": [
        "##Importing The Dataset"
      ]
    },
    {
      "cell_type": "code",
      "metadata": {
        "id": "Y2ryrh2MKch0"
      },
      "source": [
        "df = pd.read_csv('Position_Salaries.csv')"
      ],
      "execution_count": 2,
      "outputs": []
    },
    {
      "cell_type": "code",
      "metadata": {
        "id": "z8yTTGOzKsee"
      },
      "source": [
        "X = df.iloc[:, 1:-1].values\n",
        "y = df.iloc[:, -1].values"
      ],
      "execution_count": 11,
      "outputs": []
    },
    {
      "cell_type": "markdown",
      "metadata": {
        "id": "AHQjRzFLLCuL"
      },
      "source": [
        "##Feature Scaling"
      ]
    },
    {
      "cell_type": "code",
      "metadata": {
        "colab": {
          "base_uri": "https://localhost:8080/"
        },
        "id": "NOkgi489K4by",
        "outputId": "796b015f-4fbf-4a77-eec9-e40a503ad855"
      },
      "source": [
        "#it is needed because the values in Salaries and Level are different in magnitude\n",
        "#values in level might get neglected completely\n",
        "X.shape"
      ],
      "execution_count": 5,
      "outputs": [
        {
          "output_type": "execute_result",
          "data": {
            "text/plain": [
              "(10, 1)"
            ]
          },
          "metadata": {
            "tags": []
          },
          "execution_count": 5
        }
      ]
    },
    {
      "cell_type": "code",
      "metadata": {
        "colab": {
          "base_uri": "https://localhost:8080/"
        },
        "id": "4AScggVFL-Tf",
        "outputId": "b7e9ebae-8a4e-463e-95f0-d87f76a313b1"
      },
      "source": [
        "y.shape"
      ],
      "execution_count": 14,
      "outputs": [
        {
          "output_type": "execute_result",
          "data": {
            "text/plain": [
              "(10, 1)"
            ]
          },
          "metadata": {
            "tags": []
          },
          "execution_count": 14
        }
      ]
    },
    {
      "cell_type": "code",
      "metadata": {
        "id": "1e3fpoQTL_lV"
      },
      "source": [
        "y = y.reshape(len(y),1)"
      ],
      "execution_count": 13,
      "outputs": []
    },
    {
      "cell_type": "code",
      "metadata": {
        "id": "hYFgCK6qMN_9"
      },
      "source": [
        "from sklearn.preprocessing import StandardScaler\n",
        "scalerX = StandardScaler()\n",
        "scalery = StandardScaler()\n",
        "#because the values for scaling each other are too different both cases\n",
        "#the std and mean values are different for X and y\n",
        "X = scalerX.fit_transform(X)\n",
        "y = scalery.fit_transform(y)\n"
      ],
      "execution_count": 15,
      "outputs": []
    },
    {
      "cell_type": "code",
      "metadata": {
        "colab": {
          "base_uri": "https://localhost:8080/"
        },
        "id": "sSc_ectjNj5i",
        "outputId": "7778693f-6706-409d-f5b1-c466bb27d9f0"
      },
      "source": [
        "#new X \n",
        "X"
      ],
      "execution_count": 16,
      "outputs": [
        {
          "output_type": "execute_result",
          "data": {
            "text/plain": [
              "array([[-1.5666989 ],\n",
              "       [-1.21854359],\n",
              "       [-0.87038828],\n",
              "       [-0.52223297],\n",
              "       [-0.17407766],\n",
              "       [ 0.17407766],\n",
              "       [ 0.52223297],\n",
              "       [ 0.87038828],\n",
              "       [ 1.21854359],\n",
              "       [ 1.5666989 ]])"
            ]
          },
          "metadata": {
            "tags": []
          },
          "execution_count": 16
        }
      ]
    },
    {
      "cell_type": "code",
      "metadata": {
        "colab": {
          "base_uri": "https://localhost:8080/"
        },
        "id": "nHX6YRdVNmpZ",
        "outputId": "b86cab58-19ac-41b4-bdf0-10b9135aa6ab"
      },
      "source": [
        "#new y\n",
        "y"
      ],
      "execution_count": 17,
      "outputs": [
        {
          "output_type": "execute_result",
          "data": {
            "text/plain": [
              "array([[-0.72004253],\n",
              "       [-0.70243757],\n",
              "       [-0.66722767],\n",
              "       [-0.59680786],\n",
              "       [-0.49117815],\n",
              "       [-0.35033854],\n",
              "       [-0.17428902],\n",
              "       [ 0.17781001],\n",
              "       [ 0.88200808],\n",
              "       [ 2.64250325]])"
            ]
          },
          "metadata": {
            "tags": []
          },
          "execution_count": 17
        }
      ]
    },
    {
      "cell_type": "markdown",
      "metadata": {
        "id": "YKpSlQyCNvAz"
      },
      "source": [
        "#Training the SVR model on the whole dataset"
      ]
    },
    {
      "cell_type": "code",
      "metadata": {
        "colab": {
          "base_uri": "https://localhost:8080/"
        },
        "id": "hefoNf5uNpIh",
        "outputId": "d4e882b7-5428-45a0-809d-ff9d6437efe0"
      },
      "source": [
        "from sklearn.svm import SVR\n",
        "svr = SVR(kernel = 'rbf')\n",
        "#Radial Basis Kernel\n",
        "#taught in further lectures\n",
        "svr.fit(X,y)"
      ],
      "execution_count": 18,
      "outputs": [
        {
          "output_type": "stream",
          "text": [
            "/usr/local/lib/python3.6/dist-packages/sklearn/utils/validation.py:760: DataConversionWarning: A column-vector y was passed when a 1d array was expected. Please change the shape of y to (n_samples, ), for example using ravel().\n",
            "  y = column_or_1d(y, warn=True)\n"
          ],
          "name": "stderr"
        },
        {
          "output_type": "execute_result",
          "data": {
            "text/plain": [
              "SVR(C=1.0, cache_size=200, coef0=0.0, degree=3, epsilon=0.1, gamma='scale',\n",
              "    kernel='rbf', max_iter=-1, shrinking=True, tol=0.001, verbose=False)"
            ]
          },
          "metadata": {
            "tags": []
          },
          "execution_count": 18
        }
      ]
    },
    {
      "cell_type": "markdown",
      "metadata": {
        "id": "QgPxxC1sPOZW"
      },
      "source": [
        "#Predicting a new Result"
      ]
    },
    {
      "cell_type": "code",
      "metadata": {
        "id": "NzWIuM9TPNNc"
      },
      "source": [
        "#now we have to descale our scaled variables into the original values to\n",
        "#get accurate predictions\n",
        "\n",
        "'''\n",
        "svr.predict([[6,5]])\n",
        "originally we used this\n",
        "\n",
        "the predict method requires us to give the original values in the dataset\n",
        "\n",
        "there is where the scalerX comes in handy\n",
        "\n",
        "'''\n",
        "#Tranforming\n",
        "original_val_X = scalerX.transform([[6.5]])\n",
        "#predict\n",
        "svr_pred_unscaled = svr.predict(original_val_X)"
      ],
      "execution_count": 22,
      "outputs": []
    },
    {
      "cell_type": "markdown",
      "metadata": {
        "id": "COjoqvC5Qf7F"
      },
      "source": [
        "Predicted Salary that is scaled"
      ]
    },
    {
      "cell_type": "code",
      "metadata": {
        "colab": {
          "base_uri": "https://localhost:8080/"
        },
        "id": "TutRioA1QRUQ",
        "outputId": "7da90576-2eda-4fd8-ea28-330a624445e3"
      },
      "source": [
        "#we use inverse transform\n",
        "scalery.inverse_transform(svr_pred_unscaled)"
      ],
      "execution_count": 23,
      "outputs": [
        {
          "output_type": "execute_result",
          "data": {
            "text/plain": [
              "array([170370.0204065])"
            ]
          },
          "metadata": {
            "tags": []
          },
          "execution_count": 23
        }
      ]
    },
    {
      "cell_type": "markdown",
      "metadata": {
        "id": "zr6cODjmQ21N"
      },
      "source": [
        "Now, the value is scaled back to original"
      ]
    },
    {
      "cell_type": "markdown",
      "metadata": {
        "id": "Gp5nJ_A7Q-Ej"
      },
      "source": [
        "#Visualizing the SVR results"
      ]
    },
    {
      "cell_type": "code",
      "metadata": {
        "colab": {
          "base_uri": "https://localhost:8080/",
          "height": 366
        },
        "id": "Oc04tCQFQ1Fj",
        "outputId": "ed1cfe49-2f07-4d04-e8a2-1d29f95aa29d"
      },
      "source": [
        "sns.regplot(scalerX.inverse_transform(X),scalery.inverse_transform(y))\n",
        "plt.plot(scalerX.inverse_transform(X), scalery.inverse_transform(svr.predict(X)))\n",
        "plt.title('Truth or Bluff (SVR)')\n",
        "plt.xlabel('Postion Level')\n",
        "plt.ylabel('Salary')"
      ],
      "execution_count": 25,
      "outputs": [
        {
          "output_type": "stream",
          "text": [
            "/usr/local/lib/python3.6/dist-packages/seaborn/_decorators.py:43: FutureWarning: Pass the following variables as keyword args: x, y. From version 0.12, the only valid positional argument will be `data`, and passing other arguments without an explicit keyword will result in an error or misinterpretation.\n",
            "  FutureWarning\n"
          ],
          "name": "stderr"
        },
        {
          "output_type": "execute_result",
          "data": {
            "text/plain": [
              "Text(0, 0.5, 'Salary')"
            ]
          },
          "metadata": {
            "tags": []
          },
          "execution_count": 25
        },
        {
          "output_type": "display_data",
          "data": {
            "image/png": "[encoded data removed]",
            "text/plain": [
              "<Figure size 432x288 with 1 Axes>"
            ]
          },
          "metadata": {
            "tags": [],
            "needs_background": "light"
          }
        }
      ]
    },
    {
      "cell_type": "markdown",
      "metadata": {
        "id": "y1sncpNhTw9N"
      },
      "source": [
        "##For Higher resolution and smoother curve"
      ]
    },
    {
      "cell_type": "code",
      "metadata": {
        "colab": {
          "base_uri": "https://localhost:8080/",
          "height": 366
        },
        "id": "HJr3VeMOS4am",
        "outputId": "0854e610-8cfa-4484-bb0e-7cbb80003d54"
      },
      "source": [
        "X_grid = np.arange(min(scalerX.inverse_transform(X)),max(scalerX.inverse_transform(X)),0.1)\n",
        "X_grid = X_grid.reshape(len(X_grid),1)\n",
        "sns.regplot(scalerX.inverse_transform(X),scalery.inverse_transform(y))\n",
        "plt.plot(X_grid, scalery.inverse_transform(svr.predict(scalerX.transform(X_grid))))\n",
        "plt.title('Truth or Bluff (SVR)')\n",
        "plt.xlabel('Postion Level')\n",
        "plt.ylabel('Salary')"
      ],
      "execution_count": 36,
      "outputs": [
        {
          "output_type": "stream",
          "text": [
            "/usr/local/lib/python3.6/dist-packages/seaborn/_decorators.py:43: FutureWarning: Pass the following variables as keyword args: x, y. From version 0.12, the only valid positional argument will be `data`, and passing other arguments without an explicit keyword will result in an error or misinterpretation.\n",
            "  FutureWarning\n"
          ],
          "name": "stderr"
        },
        {
          "output_type": "execute_result",
          "data": {
            "text/plain": [
              "Text(0, 0.5, 'Salary')"
            ]
          },
          "metadata": {
            "tags": []
          },
          "execution_count": 36
        },
        {
          "output_type": "display_data",
          "data": {
            "image/png": "[encoded data removed]",
            "text/plain": [
              "<Figure size 432x288 with 1 Axes>"
            ]
          },
          "metadata": {
            "tags": [],
            "needs_background": "light"
          }
        }
      ]
    },
    {
      "cell_type": "code",
      "metadata": {
        "id": "r9XyOzgvUzaA"
      },
      "source": [
        ""
      ],
      "execution_count": null,
      "outputs": []
    }
  ]
}