{
  "nbformat": 4,
  "nbformat_minor": 0,
  "metadata": {
    "colab": {
      "name": "Artificial Neural Network.ipynb",
      "provenance": [],
      "collapsed_sections": [],
      "authorship_tag": "ABX9TyPwjb99sFEdBaY+JB8kX85f",
      "include_colab_link": true
    },
    "kernelspec": {
      "name": "python3",
      "display_name": "Python 3"
    }
  },
  "cells": [
    {
      "cell_type": "markdown",
      "metadata": {
        "id": "view-in-github",
        "colab_type": "text"
      },
      "source": [
        "<a href=\"https://colab.research.google.com/github/rajat1911996sharma/Machine-Learning-Model-Life-Cycle/blob/Regresion-Models/Artificial_Neural_Network.ipynb\" target=\"_parent\"><img src=\"https://colab.research.google.com/assets/colab-badge.svg\" alt=\"Open In Colab\"/></a>"
      ]
    },
    {
      "cell_type": "markdown",
      "metadata": {
        "id": "dIKpqPXShwGM"
      },
      "source": [
        "#ANN with Stochstic Gradient Descent"
      ]
    },
    {
      "cell_type": "markdown",
      "metadata": {
        "id": "NYGsBSvGh2Au"
      },
      "source": [
        "```\r\n",
        "Step 1: Randomly initialize the weights to small numbers close to 0 (but not 0).\r\n",
        "\r\n",
        "Step 2: Input the first observation of your dataset in the input layer, each feature in one input node.\r\n",
        "\r\n",
        "Step 3: Forward-Propagation: from left to right, the neurons are activated in a way that the impact of each neuron's is limited by the weights. Propagate the activations until getting the predicted result y.\r\n",
        "\r\n",
        "Step 4: Compare the predicted result to the actual result. Measure the generated error.\r\n",
        "\r\n",
        "Step 5: Back-Propagation: from right to left, the error is back-propagated. Update the weights according to how much they are responsible for the error. The learning rate decides by how much we update the weights.\r\n",
        "\r\n",
        "Step 6: Repeat Steps 1 to 5 and update weights after each observation (Reinforcement Learning). Or: Repeat Steps 1 to 5 but update the weights only after a batch of observations (Batch Learning).\r\n",
        "\r\n",
        "Step 7: When the whole training set passed through the ANN, that makes an epoch. Redo more epochs.\r\n",
        "```"
      ]
    },
    {
      "cell_type": "markdown",
      "metadata": {
        "id": "xeDp6xy4kgL4"
      },
      "source": [
        "##Business Problem\r\n",
        "\r\n",
        "Customers are leaving a large bank. We are dealing with values only in Europe for now. So, we get 10,000 customers. We are to find which customers are at highest risk of leaving the bank.\r\n",
        "\r\n",
        "Should the person get a loan or not should the person get credit or not ?\r\n",
        "\r\n",
        "Maybe which transcations are Fradualent.\r\n",
        "\r\n",
        "\r\n",
        "\r\n"
      ]
    },
    {
      "cell_type": "markdown",
      "metadata": {
        "id": "wVowhzDHo53G"
      },
      "source": [
        "##Data Preprocessing"
      ]
    },
    {
      "cell_type": "markdown",
      "metadata": {
        "id": "2j39tStrojJQ"
      },
      "source": [
        "###Importing the Libraries"
      ]
    },
    {
      "cell_type": "code",
      "metadata": {
        "id": "FUvZbFCwhire"
      },
      "source": [
        "import numpy as np\r\n",
        "import pandas as pd\r\n",
        "import matplotlib.pyplot as plt\r\n",
        "import seaborn as sns\r\n"
      ],
      "execution_count": 200,
      "outputs": []
    },
    {
      "cell_type": "markdown",
      "metadata": {
        "id": "LT1oDP0po_X5"
      },
      "source": [
        "###Importing the dataset\r\n"
      ]
    },
    {
      "cell_type": "code",
      "metadata": {
        "id": "tT57kqHapGCi"
      },
      "source": [
        "df = pd.read_csv('Churn_Modelling.csv')\r\n"
      ],
      "execution_count": 201,
      "outputs": []
    },
    {
      "cell_type": "code",
      "metadata": {
        "colab": {
          "base_uri": "https://localhost:8080/",
          "height": 215
        },
        "id": "ubW_b0C7rMAV",
        "outputId": "add4b79f-55ad-4043-8a24-f39a2d20e333"
      },
      "source": [
        "df.head()"
      ],
      "execution_count": 202,
      "outputs": [
        {
          "output_type": "execute_result",
          "data": {
            "text/html": [
              "<div>\n",
              "<style scoped>\n",
              "    .dataframe tbody tr th:only-of-type {\n",
              "        vertical-align: middle;\n",
              "    }\n",
              "\n",
              "    .dataframe tbody tr th {\n",
              "        vertical-align: top;\n",
              "    }\n",
              "\n",
              "    .dataframe thead th {\n",
              "        text-align: right;\n",
              "    }\n",
              "</style>\n",
              "<table border=\"1\" class=\"dataframe\">\n",
              "  <thead>\n",
              "    <tr style=\"text-align: right;\">\n",
              "      <th></th>\n",
              "      <th>RowNumber</th>\n",
              "      <th>CustomerId</th>\n",
              "      <th>Surname</th>\n",
              "      <th>CreditScore</th>\n",
              "      <th>Geography</th>\n",
              "      <th>Gender</th>\n",
              "      <th>Age</th>\n",
              "      <th>Tenure</th>\n",
              "      <th>Balance</th>\n",
              "      <th>NumOfProducts</th>\n",
              "      <th>HasCrCard</th>\n",
              "      <th>IsActiveMember</th>\n",
              "      <th>EstimatedSalary</th>\n",
              "      <th>Exited</th>\n",
              "    </tr>\n",
              "  </thead>\n",
              "  <tbody>\n",
              "    <tr>\n",
              "      <th>0</th>\n",
              "      <td>1</td>\n",
              "      <td>15634602</td>\n",
              "      <td>Hargrave</td>\n",
              "      <td>619</td>\n",
              "      <td>France</td>\n",
              "      <td>Female</td>\n",
              "      <td>42</td>\n",
              "      <td>2</td>\n",
              "      <td>0.00</td>\n",
              "      <td>1</td>\n",
              "      <td>1</td>\n",
              "      <td>1</td>\n",
              "      <td>101348.88</td>\n",
              "      <td>1</td>\n",
              "    </tr>\n",
              "    <tr>\n",
              "      <th>1</th>\n",
              "      <td>2</td>\n",
              "      <td>15647311</td>\n",
              "      <td>Hill</td>\n",
              "      <td>608</td>\n",
              "      <td>Spain</td>\n",
              "      <td>Female</td>\n",
              "      <td>41</td>\n",
              "      <td>1</td>\n",
              "      <td>83807.86</td>\n",
              "      <td>1</td>\n",
              "      <td>0</td>\n",
              "      <td>1</td>\n",
              "      <td>112542.58</td>\n",
              "      <td>0</td>\n",
              "    </tr>\n",
              "    <tr>\n",
              "      <th>2</th>\n",
              "      <td>3</td>\n",
              "      <td>15619304</td>\n",
              "      <td>Onio</td>\n",
              "      <td>502</td>\n",
              "      <td>France</td>\n",
              "      <td>Female</td>\n",
              "      <td>42</td>\n",
              "      <td>8</td>\n",
              "      <td>159660.80</td>\n",
              "      <td>3</td>\n",
              "      <td>1</td>\n",
              "      <td>0</td>\n",
              "      <td>113931.57</td>\n",
              "      <td>1</td>\n",
              "    </tr>\n",
              "    <tr>\n",
              "      <th>3</th>\n",
              "      <td>4</td>\n",
              "      <td>15701354</td>\n",
              "      <td>Boni</td>\n",
              "      <td>699</td>\n",
              "      <td>France</td>\n",
              "      <td>Female</td>\n",
              "      <td>39</td>\n",
              "      <td>1</td>\n",
              "      <td>0.00</td>\n",
              "      <td>2</td>\n",
              "      <td>0</td>\n",
              "      <td>0</td>\n",
              "      <td>93826.63</td>\n",
              "      <td>0</td>\n",
              "    </tr>\n",
              "    <tr>\n",
              "      <th>4</th>\n",
              "      <td>5</td>\n",
              "      <td>15737888</td>\n",
              "      <td>Mitchell</td>\n",
              "      <td>850</td>\n",
              "      <td>Spain</td>\n",
              "      <td>Female</td>\n",
              "      <td>43</td>\n",
              "      <td>2</td>\n",
              "      <td>125510.82</td>\n",
              "      <td>1</td>\n",
              "      <td>1</td>\n",
              "      <td>1</td>\n",
              "      <td>79084.10</td>\n",
              "      <td>0</td>\n",
              "    </tr>\n",
              "  </tbody>\n",
              "</table>\n",
              "</div>"
            ],
            "text/plain": [
              "   RowNumber  CustomerId   Surname  ...  IsActiveMember EstimatedSalary Exited\n",
              "0          1    15634602  Hargrave  ...               1       101348.88      1\n",
              "1          2    15647311      Hill  ...               1       112542.58      0\n",
              "2          3    15619304      Onio  ...               0       113931.57      1\n",
              "3          4    15701354      Boni  ...               0        93826.63      0\n",
              "4          5    15737888  Mitchell  ...               1        79084.10      0\n",
              "\n",
              "[5 rows x 14 columns]"
            ]
          },
          "metadata": {
            "tags": []
          },
          "execution_count": 202
        }
      ]
    },
    {
      "cell_type": "markdown",
      "metadata": {
        "id": "KUD7RuH4rSb6"
      },
      "source": [
        "RowNumber, CustomerId, Surname seems to have no bearing on the final outcome.\r\n",
        "\r\n",
        "So, we will exclude those."
      ]
    },
    {
      "cell_type": "code",
      "metadata": {
        "id": "lE0ziCT8rdwp"
      },
      "source": [
        "X = df.iloc[:, 3:-1].values #taking the values from 3rd column\r\n",
        "y = df.iloc[:, -1].values\r\n"
      ],
      "execution_count": 203,
      "outputs": []
    },
    {
      "cell_type": "markdown",
      "metadata": {
        "id": "M2C0oAo1pElU"
      },
      "source": [
        "###Encoding the categorical variable"
      ]
    },
    {
      "cell_type": "code",
      "metadata": {
        "colab": {
          "base_uri": "https://localhost:8080/"
        },
        "id": "fLnQ5-5vo1xu",
        "outputId": "6111de61-0260-44aa-ce9c-b03dae0ae027"
      },
      "source": [
        "df.info()"
      ],
      "execution_count": 204,
      "outputs": [
        {
          "output_type": "stream",
          "text": [
            "<class 'pandas.core.frame.DataFrame'>\n",
            "RangeIndex: 10000 entries, 0 to 9999\n",
            "Data columns (total 14 columns):\n",
            " #   Column           Non-Null Count  Dtype  \n",
            "---  ------           --------------  -----  \n",
            " 0   RowNumber        10000 non-null  int64  \n",
            " 1   CustomerId       10000 non-null  int64  \n",
            " 2   Surname          10000 non-null  object \n",
            " 3   CreditScore      10000 non-null  int64  \n",
            " 4   Geography        10000 non-null  object \n",
            " 5   Gender           10000 non-null  object \n",
            " 6   Age              10000 non-null  int64  \n",
            " 7   Tenure           10000 non-null  int64  \n",
            " 8   Balance          10000 non-null  float64\n",
            " 9   NumOfProducts    10000 non-null  int64  \n",
            " 10  HasCrCard        10000 non-null  int64  \n",
            " 11  IsActiveMember   10000 non-null  int64  \n",
            " 12  EstimatedSalary  10000 non-null  float64\n",
            " 13  Exited           10000 non-null  int64  \n",
            "dtypes: float64(2), int64(9), object(3)\n",
            "memory usage: 1.1+ MB\n"
          ],
          "name": "stdout"
        }
      ]
    },
    {
      "cell_type": "markdown",
      "metadata": {
        "id": "btsKIAL1sDHE"
      },
      "source": [
        "Geography and Gender are categorical varibles that are potentially useful for the final outcome."
      ]
    },
    {
      "cell_type": "markdown",
      "metadata": {
        "id": "mNiPrCU5sPkR"
      },
      "source": [
        "####Label Encoding of \"Gender\" Column"
      ]
    },
    {
      "cell_type": "code",
      "metadata": {
        "colab": {
          "base_uri": "https://localhost:8080/"
        },
        "id": "plhrUBN3tU07",
        "outputId": "24c6a8aa-98dd-4783-da2b-0213e7778f75"
      },
      "source": [
        "X[:, 2]"
      ],
      "execution_count": 205,
      "outputs": [
        {
          "output_type": "execute_result",
          "data": {
            "text/plain": [
              "array(['Female', 'Female', 'Female', ..., 'Female', 'Male', 'Female'],\n",
              "      dtype=object)"
            ]
          },
          "metadata": {
            "tags": []
          },
          "execution_count": 205
        }
      ]
    },
    {
      "cell_type": "code",
      "metadata": {
        "id": "uQIyDt-Erx7R"
      },
      "source": [
        "from sklearn.preprocessing import LabelEncoder\r\n",
        "le = LabelEncoder()\r\n",
        "X[:, 2] = le.fit_transform(X[:, 2])"
      ],
      "execution_count": 206,
      "outputs": []
    },
    {
      "cell_type": "code",
      "metadata": {
        "colab": {
          "base_uri": "https://localhost:8080/"
        },
        "id": "8wI0gZBqtyXZ",
        "outputId": "c97c2cce-0ee5-469b-8d2c-f8f93e33b4e2"
      },
      "source": [
        "X[:, 2]"
      ],
      "execution_count": 207,
      "outputs": [
        {
          "output_type": "execute_result",
          "data": {
            "text/plain": [
              "array([0, 0, 0, ..., 0, 1, 0], dtype=object)"
            ]
          },
          "metadata": {
            "tags": []
          },
          "execution_count": 207
        }
      ]
    },
    {
      "cell_type": "code",
      "metadata": {
        "colab": {
          "base_uri": "https://localhost:8080/"
        },
        "id": "0ZtdduLst3pW",
        "outputId": "739d16d9-f390-4cee-c39f-a104a9ec4911"
      },
      "source": [
        "X"
      ],
      "execution_count": 208,
      "outputs": [
        {
          "output_type": "execute_result",
          "data": {
            "text/plain": [
              "array([[619, 'France', 0, ..., 1, 1, 101348.88],\n",
              "       [608, 'Spain', 0, ..., 0, 1, 112542.58],\n",
              "       [502, 'France', 0, ..., 1, 0, 113931.57],\n",
              "       ...,\n",
              "       [709, 'France', 0, ..., 0, 1, 42085.58],\n",
              "       [772, 'Germany', 1, ..., 1, 0, 92888.52],\n",
              "       [792, 'France', 0, ..., 1, 0, 38190.78]], dtype=object)"
            ]
          },
          "metadata": {
            "tags": []
          },
          "execution_count": 208
        }
      ]
    },
    {
      "cell_type": "code",
      "metadata": {
        "colab": {
          "base_uri": "https://localhost:8080/"
        },
        "id": "NElD6HagBv1m",
        "outputId": "7fb64c39-9a8f-4eec-8349-eab474c26c2d"
      },
      "source": [
        "X.shape"
      ],
      "execution_count": 209,
      "outputs": [
        {
          "output_type": "execute_result",
          "data": {
            "text/plain": [
              "(10000, 10)"
            ]
          },
          "metadata": {
            "tags": []
          },
          "execution_count": 209
        }
      ]
    },
    {
      "cell_type": "code",
      "metadata": {
        "id": "V8awpo4rBfz1"
      },
      "source": [
        "#X = np.asarray(X).astype('float32')"
      ],
      "execution_count": 210,
      "outputs": []
    },
    {
      "cell_type": "code",
      "metadata": {
        "colab": {
          "base_uri": "https://localhost:8080/"
        },
        "id": "JLpONzY9Br0X",
        "outputId": "91bd026f-daa9-482f-fd18-1b1ae967ce54"
      },
      "source": [
        "X.shape"
      ],
      "execution_count": 211,
      "outputs": [
        {
          "output_type": "execute_result",
          "data": {
            "text/plain": [
              "(10000, 10)"
            ]
          },
          "metadata": {
            "tags": []
          },
          "execution_count": 211
        }
      ]
    },
    {
      "cell_type": "code",
      "metadata": {
        "colab": {
          "base_uri": "https://localhost:8080/"
        },
        "id": "ms6DwVZkCI-m",
        "outputId": "86f88877-11f2-4e07-fa47-9298a393cde9"
      },
      "source": [
        "y.shape"
      ],
      "execution_count": 212,
      "outputs": [
        {
          "output_type": "execute_result",
          "data": {
            "text/plain": [
              "(10000,)"
            ]
          },
          "metadata": {
            "tags": []
          },
          "execution_count": 212
        }
      ]
    },
    {
      "cell_type": "code",
      "metadata": {
        "id": "k_ti_CUzCMjA"
      },
      "source": [
        "#y = np.asarray(y).astype('float32')\r\n",
        "#y.shape\r\n",
        "#type(y)"
      ],
      "execution_count": 213,
      "outputs": []
    },
    {
      "cell_type": "markdown",
      "metadata": {
        "id": "p7luicZat65b"
      },
      "source": [
        "####One Hot Encoding of \"Geography\" Column"
      ]
    },
    {
      "cell_type": "code",
      "metadata": {
        "colab": {
          "base_uri": "https://localhost:8080/"
        },
        "id": "tU1fDqAAt4oZ",
        "outputId": "0b6809ce-5722-4e11-ee44-1bbf13e0474f"
      },
      "source": [
        "from sklearn.compose import ColumnTransformer\r\n",
        "from sklearn.preprocessing import OneHotEncoder\r\n",
        "ct = ColumnTransformer(transformers = [('encoder', OneHotEncoder(), [1])], remainder= 'passthrough')\r\n",
        "X = ct.fit_transform(X)\r\n",
        "type(X)\r\n"
      ],
      "execution_count": 214,
      "outputs": [
        {
          "output_type": "execute_result",
          "data": {
            "text/plain": [
              "numpy.ndarray"
            ]
          },
          "metadata": {
            "tags": []
          },
          "execution_count": 214
        }
      ]
    },
    {
      "cell_type": "code",
      "metadata": {
        "colab": {
          "base_uri": "https://localhost:8080/"
        },
        "id": "wU05H3ibvWRY",
        "outputId": "2d8fecaf-2bf4-45b3-fb84-7437ee26b0d6"
      },
      "source": [
        "from sklearn.compose import ColumnTransformer\r\n",
        "from sklearn.preprocessing import OneHotEncoder\r\n",
        "ct = ColumnTransformer(transformers = [('encoder', OneHotEncoder(), [1])], remainder= 'passthrough')\r\n",
        "X = np.array(ct.fit_transform(X))\r\n",
        "type(X)\r\n"
      ],
      "execution_count": 215,
      "outputs": [
        {
          "output_type": "execute_result",
          "data": {
            "text/plain": [
              "numpy.ndarray"
            ]
          },
          "metadata": {
            "tags": []
          },
          "execution_count": 215
        }
      ]
    },
    {
      "cell_type": "code",
      "metadata": {
        "id": "amAQpw0OESKD"
      },
      "source": [
        "X = np.asarray(X).astype('float32')"
      ],
      "execution_count": 216,
      "outputs": []
    },
    {
      "cell_type": "code",
      "metadata": {
        "colab": {
          "base_uri": "https://localhost:8080/"
        },
        "id": "BnDWVh6Hvji-",
        "outputId": "ab6737c1-8cce-43a9-b9f2-4ba583f2ff77"
      },
      "source": [
        "X"
      ],
      "execution_count": 217,
      "outputs": [
        {
          "output_type": "execute_result",
          "data": {
            "text/plain": [
              "array([[1.0000000e+00, 0.0000000e+00, 1.0000000e+00, ..., 1.0000000e+00,\n",
              "        1.0000000e+00, 1.0134888e+05],\n",
              "       [1.0000000e+00, 0.0000000e+00, 0.0000000e+00, ..., 0.0000000e+00,\n",
              "        1.0000000e+00, 1.1254258e+05],\n",
              "       [1.0000000e+00, 0.0000000e+00, 1.0000000e+00, ..., 1.0000000e+00,\n",
              "        0.0000000e+00, 1.1393157e+05],\n",
              "       ...,\n",
              "       [1.0000000e+00, 0.0000000e+00, 1.0000000e+00, ..., 0.0000000e+00,\n",
              "        1.0000000e+00, 4.2085578e+04],\n",
              "       [0.0000000e+00, 1.0000000e+00, 0.0000000e+00, ..., 1.0000000e+00,\n",
              "        0.0000000e+00, 9.2888523e+04],\n",
              "       [1.0000000e+00, 0.0000000e+00, 1.0000000e+00, ..., 1.0000000e+00,\n",
              "        0.0000000e+00, 3.8190781e+04]], dtype=float32)"
            ]
          },
          "metadata": {
            "tags": []
          },
          "execution_count": 217
        }
      ]
    },
    {
      "cell_type": "markdown",
      "metadata": {
        "id": "ZlAX_HLmvudr"
      },
      "source": [
        "###Split the dataset into Test Set and Training Set"
      ]
    },
    {
      "cell_type": "code",
      "metadata": {
        "id": "907VisiHvlk-"
      },
      "source": [
        "from sklearn.model_selection import train_test_split\r\n",
        "X_train, X_test, y_train, y_test = train_test_split(X,y, test_size=0.2, random_state=0)"
      ],
      "execution_count": 218,
      "outputs": []
    },
    {
      "cell_type": "markdown",
      "metadata": {
        "id": "kRAEYEevwE0E"
      },
      "source": [
        "###Feature Scaling(Absolutely Complusory for Deep Learning)"
      ]
    },
    {
      "cell_type": "code",
      "metadata": {
        "id": "P0kQasVswDZJ"
      },
      "source": [
        "from sklearn.preprocessing import StandardScaler\r\n",
        "scaler = StandardScaler()\r\n",
        "X_train = scaler.fit_transform(X_train)\r\n",
        "X_test = scaler.transform(X_test)"
      ],
      "execution_count": 219,
      "outputs": []
    },
    {
      "cell_type": "code",
      "metadata": {
        "colab": {
          "base_uri": "https://localhost:8080/"
        },
        "id": "5J1pKp5A-Gt0",
        "outputId": "8ad93659-7f91-4548-b9ca-ff5eb199a269"
      },
      "source": [
        "X_train.shape"
      ],
      "execution_count": 220,
      "outputs": [
        {
          "output_type": "execute_result",
          "data": {
            "text/plain": [
              "(8000, 13)"
            ]
          },
          "metadata": {
            "tags": []
          },
          "execution_count": 220
        }
      ]
    },
    {
      "cell_type": "code",
      "metadata": {
        "colab": {
          "base_uri": "https://localhost:8080/"
        },
        "id": "cU7p9Cne-Ne_",
        "outputId": "aa6921d8-13ff-4319-a8ba-8551067d6a5e"
      },
      "source": [
        "X_test.shape"
      ],
      "execution_count": 221,
      "outputs": [
        {
          "output_type": "execute_result",
          "data": {
            "text/plain": [
              "(2000, 13)"
            ]
          },
          "metadata": {
            "tags": []
          },
          "execution_count": 221
        }
      ]
    },
    {
      "cell_type": "code",
      "metadata": {
        "colab": {
          "base_uri": "https://localhost:8080/"
        },
        "id": "xKV-EFZS-NAP",
        "outputId": "be27939e-c741-44fb-97f3-4abfa82db19a"
      },
      "source": [
        "y_train.shape"
      ],
      "execution_count": 222,
      "outputs": [
        {
          "output_type": "execute_result",
          "data": {
            "text/plain": [
              "(8000,)"
            ]
          },
          "metadata": {
            "tags": []
          },
          "execution_count": 222
        }
      ]
    },
    {
      "cell_type": "code",
      "metadata": {
        "colab": {
          "base_uri": "https://localhost:8080/"
        },
        "id": "JrbuPExN-Mf0",
        "outputId": "5a408009-aa87-4f88-9a24-b69ebd72a60c"
      },
      "source": [
        "y_test.shape"
      ],
      "execution_count": 223,
      "outputs": [
        {
          "output_type": "execute_result",
          "data": {
            "text/plain": [
              "(2000,)"
            ]
          },
          "metadata": {
            "tags": []
          },
          "execution_count": 223
        }
      ]
    },
    {
      "cell_type": "code",
      "metadata": {
        "id": "t_NfXV8R_-nf"
      },
      "source": [
        "'''y_train = y_train.reshape(-1,1)\r\n",
        "y_train.shape'''\r\n",
        "X_train = np.asarray(X_train)\r\n",
        "X_test = np.asarray(X_test)"
      ],
      "execution_count": 224,
      "outputs": []
    },
    {
      "cell_type": "code",
      "metadata": {
        "id": "iGylkIiC_-kB"
      },
      "source": [
        "'''y_test = y_test.reshape(-1,1)\r\n",
        "y_test.shape'''\r\n",
        "y_train = np.asarray(y_train)\r\n",
        "y_test = np.asarray(y_test)"
      ],
      "execution_count": 225,
      "outputs": []
    },
    {
      "cell_type": "markdown",
      "metadata": {
        "id": "aczDBRpUxE93"
      },
      "source": [
        "##Building an ANN"
      ]
    },
    {
      "cell_type": "markdown",
      "metadata": {
        "id": "J0gkJ7lixcFh"
      },
      "source": [
        "###Initializing the ANN"
      ]
    },
    {
      "cell_type": "code",
      "metadata": {
        "id": "92D3g1rpw6rq"
      },
      "source": [
        "from tensorflow.keras.models import Sequential\r\n",
        "ann = Sequential()"
      ],
      "execution_count": 226,
      "outputs": []
    },
    {
      "cell_type": "markdown",
      "metadata": {
        "id": "HDvL56-sx4Sd"
      },
      "source": [
        "###Adding the input layer and the first hidden layer "
      ]
    },
    {
      "cell_type": "code",
      "metadata": {
        "id": "TQGVIgxVx9uU"
      },
      "source": [
        "from tensorflow.keras.layers import Dense\r\n",
        "ann.add(Dense(units=15,activation='relu'))"
      ],
      "execution_count": 227,
      "outputs": []
    },
    {
      "cell_type": "markdown",
      "metadata": {
        "id": "0qOiOSK1ymIo"
      },
      "source": [
        "How do we know how many neurons we want ?\r\n",
        "\r\n",
        "There is no rule of thumb. It is based up on intuition.\r\n",
        "\r\n",
        "Depends on the hyperparameters (parameters that wont be trained inside this model)\r\n",
        "\r\n"
      ]
    },
    {
      "cell_type": "markdown",
      "metadata": {
        "id": "WNDYQBKyzNFX"
      },
      "source": [
        "###Adding the second hidden layer"
      ]
    },
    {
      "cell_type": "code",
      "metadata": {
        "id": "KJFFx6rwy9wH"
      },
      "source": [
        "ann.add(Dense(units=15,activation='relu'))"
      ],
      "execution_count": 228,
      "outputs": []
    },
    {
      "cell_type": "markdown",
      "metadata": {
        "id": "gEEushgXzXZ_"
      },
      "source": [
        "###Adding the output layer"
      ]
    },
    {
      "cell_type": "code",
      "metadata": {
        "id": "jdpiJkMfzbpN"
      },
      "source": [
        "ann.add(Dense(units=1, activation='sigmoid'))\r\n",
        "#sigmoid for the probablity of a binary variable\r\n",
        "#for non binary(categorical variable), softmax should be used"
      ],
      "execution_count": 229,
      "outputs": []
    },
    {
      "cell_type": "markdown",
      "metadata": {
        "id": "0gcAOQmwz46p"
      },
      "source": [
        "##Training the ANN"
      ]
    },
    {
      "cell_type": "markdown",
      "metadata": {
        "id": "8zRlVilWz7nQ"
      },
      "source": [
        "###Compliling the ANN"
      ]
    },
    {
      "cell_type": "code",
      "metadata": {
        "id": "SV9YYFixz3qo"
      },
      "source": [
        "ann.compile(optimizer='adam',loss='binary_crossentropy',metrics=['accuracy'])\r\n",
        "#adam perform Stochastic Gradient Descent\r\n",
        "#for binary classification, we use bianry_crossentropy\r\n",
        "#for non binary classification, we use categorical_crossentropy\r\n",
        "# we need to enter the metrics as a list, we chose accuracy"
      ],
      "execution_count": 230,
      "outputs": []
    },
    {
      "cell_type": "markdown",
      "metadata": {
        "id": "05U0XOGD0GLu"
      },
      "source": [
        "###Training the ANN on the Training Set"
      ]
    },
    {
      "cell_type": "code",
      "metadata": {
        "colab": {
          "base_uri": "https://localhost:8080/"
        },
        "id": "HbGPdsr10LS_",
        "outputId": "bf93ee6b-c8e7-4e6d-c3b7-fb52fe74b35d"
      },
      "source": [
        "ann.fit(X_train, y_train , batch_size=32, epochs=100)\r\n",
        "#batch size is the number of results you want to be compared to \r\n",
        "# to get the results at the same time"
      ],
      "execution_count": 231,
      "outputs": [
        {
          "output_type": "stream",
          "text": [
            "Epoch 1/100\n",
            "250/250 [==============================] - 1s 1ms/step - loss: 0.7350 - accuracy: 0.5275\n",
            "Epoch 2/100\n",
            "250/250 [==============================] - 0s 1ms/step - loss: 0.4560 - accuracy: 0.8027\n",
            "Epoch 3/100\n",
            "250/250 [==============================] - 0s 1ms/step - loss: 0.4095 - accuracy: 0.8227\n",
            "Epoch 4/100\n",
            "250/250 [==============================] - 0s 1ms/step - loss: 0.3953 - accuracy: 0.8332\n",
            "Epoch 5/100\n",
            "250/250 [==============================] - 0s 1ms/step - loss: 0.3771 - accuracy: 0.8468\n",
            "Epoch 6/100\n",
            "250/250 [==============================] - 0s 1ms/step - loss: 0.3625 - accuracy: 0.8494\n",
            "Epoch 7/100\n",
            "250/250 [==============================] - 0s 1ms/step - loss: 0.3448 - accuracy: 0.8599\n",
            "Epoch 8/100\n",
            "250/250 [==============================] - 0s 1ms/step - loss: 0.3452 - accuracy: 0.8557\n",
            "Epoch 9/100\n",
            "250/250 [==============================] - 0s 1ms/step - loss: 0.3437 - accuracy: 0.8557\n",
            "Epoch 10/100\n",
            "250/250 [==============================] - 0s 1ms/step - loss: 0.3431 - accuracy: 0.8577\n",
            "Epoch 11/100\n",
            "250/250 [==============================] - 0s 1ms/step - loss: 0.3433 - accuracy: 0.8626\n",
            "Epoch 12/100\n",
            "250/250 [==============================] - 0s 1ms/step - loss: 0.3398 - accuracy: 0.8648\n",
            "Epoch 13/100\n",
            "250/250 [==============================] - 0s 1ms/step - loss: 0.3373 - accuracy: 0.8621\n",
            "Epoch 14/100\n",
            "250/250 [==============================] - 0s 1ms/step - loss: 0.3376 - accuracy: 0.8570\n",
            "Epoch 15/100\n",
            "250/250 [==============================] - 0s 1ms/step - loss: 0.3406 - accuracy: 0.8612\n",
            "Epoch 16/100\n",
            "250/250 [==============================] - 0s 1ms/step - loss: 0.3256 - accuracy: 0.8747\n",
            "Epoch 17/100\n",
            "250/250 [==============================] - 0s 1ms/step - loss: 0.3302 - accuracy: 0.8647\n",
            "Epoch 18/100\n",
            "250/250 [==============================] - 0s 1ms/step - loss: 0.3470 - accuracy: 0.8551\n",
            "Epoch 19/100\n",
            "250/250 [==============================] - 0s 1ms/step - loss: 0.3244 - accuracy: 0.8682\n",
            "Epoch 20/100\n",
            "250/250 [==============================] - 0s 1ms/step - loss: 0.3474 - accuracy: 0.8488\n",
            "Epoch 21/100\n",
            "250/250 [==============================] - 0s 1ms/step - loss: 0.3389 - accuracy: 0.8595\n",
            "Epoch 22/100\n",
            "250/250 [==============================] - 0s 1ms/step - loss: 0.3398 - accuracy: 0.8587\n",
            "Epoch 23/100\n",
            "250/250 [==============================] - 0s 1ms/step - loss: 0.3421 - accuracy: 0.8567\n",
            "Epoch 24/100\n",
            "250/250 [==============================] - 0s 1ms/step - loss: 0.3293 - accuracy: 0.8629\n",
            "Epoch 25/100\n",
            "250/250 [==============================] - 0s 1ms/step - loss: 0.3462 - accuracy: 0.8560\n",
            "Epoch 26/100\n",
            "250/250 [==============================] - 0s 1ms/step - loss: 0.3358 - accuracy: 0.8647\n",
            "Epoch 27/100\n",
            "250/250 [==============================] - 0s 1ms/step - loss: 0.3297 - accuracy: 0.8619\n",
            "Epoch 28/100\n",
            "250/250 [==============================] - 0s 1ms/step - loss: 0.3200 - accuracy: 0.8692\n",
            "Epoch 29/100\n",
            "250/250 [==============================] - 0s 1ms/step - loss: 0.3386 - accuracy: 0.8610\n",
            "Epoch 30/100\n",
            "250/250 [==============================] - 0s 1ms/step - loss: 0.3357 - accuracy: 0.8635\n",
            "Epoch 31/100\n",
            "250/250 [==============================] - 0s 1ms/step - loss: 0.3438 - accuracy: 0.8548\n",
            "Epoch 32/100\n",
            "250/250 [==============================] - 0s 1ms/step - loss: 0.3192 - accuracy: 0.8708\n",
            "Epoch 33/100\n",
            "250/250 [==============================] - 0s 1ms/step - loss: 0.3322 - accuracy: 0.8660\n",
            "Epoch 34/100\n",
            "250/250 [==============================] - 0s 1ms/step - loss: 0.3266 - accuracy: 0.8685\n",
            "Epoch 35/100\n",
            "250/250 [==============================] - 0s 1ms/step - loss: 0.3329 - accuracy: 0.8643\n",
            "Epoch 36/100\n",
            "250/250 [==============================] - 0s 1ms/step - loss: 0.3296 - accuracy: 0.8653\n",
            "Epoch 37/100\n",
            "250/250 [==============================] - 0s 1ms/step - loss: 0.3297 - accuracy: 0.8629\n",
            "Epoch 38/100\n",
            "250/250 [==============================] - 0s 1ms/step - loss: 0.3307 - accuracy: 0.8591\n",
            "Epoch 39/100\n",
            "250/250 [==============================] - 0s 1ms/step - loss: 0.3282 - accuracy: 0.8632\n",
            "Epoch 40/100\n",
            "250/250 [==============================] - 0s 1ms/step - loss: 0.3281 - accuracy: 0.8667\n",
            "Epoch 41/100\n",
            "250/250 [==============================] - 0s 1ms/step - loss: 0.3345 - accuracy: 0.8637\n",
            "Epoch 42/100\n",
            "250/250 [==============================] - 0s 1ms/step - loss: 0.3237 - accuracy: 0.8660\n",
            "Epoch 43/100\n",
            "250/250 [==============================] - 0s 1ms/step - loss: 0.3268 - accuracy: 0.8652\n",
            "Epoch 44/100\n",
            "250/250 [==============================] - 0s 1ms/step - loss: 0.3248 - accuracy: 0.8688\n",
            "Epoch 45/100\n",
            "250/250 [==============================] - 0s 1ms/step - loss: 0.3118 - accuracy: 0.8745\n",
            "Epoch 46/100\n",
            "250/250 [==============================] - 0s 1ms/step - loss: 0.3253 - accuracy: 0.8658\n",
            "Epoch 47/100\n",
            "250/250 [==============================] - 0s 1ms/step - loss: 0.3206 - accuracy: 0.8679\n",
            "Epoch 48/100\n",
            "250/250 [==============================] - 0s 1ms/step - loss: 0.3301 - accuracy: 0.8670\n",
            "Epoch 49/100\n",
            "250/250 [==============================] - 0s 1ms/step - loss: 0.3266 - accuracy: 0.8671\n",
            "Epoch 50/100\n",
            "250/250 [==============================] - 0s 1ms/step - loss: 0.3159 - accuracy: 0.8739\n",
            "Epoch 51/100\n",
            "250/250 [==============================] - 0s 1ms/step - loss: 0.3160 - accuracy: 0.8708\n",
            "Epoch 52/100\n",
            "250/250 [==============================] - 0s 1ms/step - loss: 0.3271 - accuracy: 0.8652\n",
            "Epoch 53/100\n",
            "250/250 [==============================] - 0s 1ms/step - loss: 0.3165 - accuracy: 0.8695\n",
            "Epoch 54/100\n",
            "250/250 [==============================] - 0s 1ms/step - loss: 0.3235 - accuracy: 0.8673\n",
            "Epoch 55/100\n",
            "250/250 [==============================] - 0s 1ms/step - loss: 0.3141 - accuracy: 0.8689\n",
            "Epoch 56/100\n",
            "250/250 [==============================] - 0s 1ms/step - loss: 0.3123 - accuracy: 0.8763\n",
            "Epoch 57/100\n",
            "250/250 [==============================] - 0s 1ms/step - loss: 0.3129 - accuracy: 0.8734\n",
            "Epoch 58/100\n",
            "250/250 [==============================] - 0s 1ms/step - loss: 0.3142 - accuracy: 0.8733\n",
            "Epoch 59/100\n",
            "250/250 [==============================] - 0s 1ms/step - loss: 0.3216 - accuracy: 0.8706\n",
            "Epoch 60/100\n",
            "250/250 [==============================] - 0s 1ms/step - loss: 0.3150 - accuracy: 0.8717\n",
            "Epoch 61/100\n",
            "250/250 [==============================] - 0s 1ms/step - loss: 0.3227 - accuracy: 0.8656\n",
            "Epoch 62/100\n",
            "250/250 [==============================] - 0s 1ms/step - loss: 0.3186 - accuracy: 0.8717\n",
            "Epoch 63/100\n",
            "250/250 [==============================] - 0s 1ms/step - loss: 0.3218 - accuracy: 0.8681\n",
            "Epoch 64/100\n",
            "250/250 [==============================] - 0s 1ms/step - loss: 0.3119 - accuracy: 0.8758\n",
            "Epoch 65/100\n",
            "250/250 [==============================] - 0s 1ms/step - loss: 0.3236 - accuracy: 0.8687\n",
            "Epoch 66/100\n",
            "250/250 [==============================] - 0s 1ms/step - loss: 0.3312 - accuracy: 0.8611\n",
            "Epoch 67/100\n",
            "250/250 [==============================] - 0s 1ms/step - loss: 0.3269 - accuracy: 0.8647\n",
            "Epoch 68/100\n",
            "250/250 [==============================] - 0s 1ms/step - loss: 0.3107 - accuracy: 0.8736\n",
            "Epoch 69/100\n",
            "250/250 [==============================] - 0s 1ms/step - loss: 0.3242 - accuracy: 0.8683\n",
            "Epoch 70/100\n",
            "250/250 [==============================] - 0s 1ms/step - loss: 0.3117 - accuracy: 0.8710\n",
            "Epoch 71/100\n",
            "250/250 [==============================] - 0s 1ms/step - loss: 0.3105 - accuracy: 0.8767\n",
            "Epoch 72/100\n",
            "250/250 [==============================] - 0s 1ms/step - loss: 0.3170 - accuracy: 0.8702\n",
            "Epoch 73/100\n",
            "250/250 [==============================] - 0s 1ms/step - loss: 0.3273 - accuracy: 0.8640\n",
            "Epoch 74/100\n",
            "250/250 [==============================] - 0s 1ms/step - loss: 0.3248 - accuracy: 0.8661\n",
            "Epoch 75/100\n",
            "250/250 [==============================] - 0s 1ms/step - loss: 0.3123 - accuracy: 0.8761\n",
            "Epoch 76/100\n",
            "250/250 [==============================] - 0s 1ms/step - loss: 0.3237 - accuracy: 0.8656\n",
            "Epoch 77/100\n",
            "250/250 [==============================] - 0s 1ms/step - loss: 0.3122 - accuracy: 0.8718\n",
            "Epoch 78/100\n",
            "250/250 [==============================] - 0s 1ms/step - loss: 0.3176 - accuracy: 0.8702\n",
            "Epoch 79/100\n",
            "250/250 [==============================] - 0s 1ms/step - loss: 0.3295 - accuracy: 0.8652\n",
            "Epoch 80/100\n",
            "250/250 [==============================] - 0s 1ms/step - loss: 0.3167 - accuracy: 0.8731\n",
            "Epoch 81/100\n",
            "250/250 [==============================] - 0s 1ms/step - loss: 0.3228 - accuracy: 0.8667\n",
            "Epoch 82/100\n",
            "250/250 [==============================] - 0s 1ms/step - loss: 0.3176 - accuracy: 0.8675\n",
            "Epoch 83/100\n",
            "250/250 [==============================] - 0s 1ms/step - loss: 0.3206 - accuracy: 0.8713\n",
            "Epoch 84/100\n",
            "250/250 [==============================] - 0s 1ms/step - loss: 0.3211 - accuracy: 0.8705\n",
            "Epoch 85/100\n",
            "250/250 [==============================] - 0s 1ms/step - loss: 0.3169 - accuracy: 0.8688\n",
            "Epoch 86/100\n",
            "250/250 [==============================] - 0s 1ms/step - loss: 0.3143 - accuracy: 0.8677\n",
            "Epoch 87/100\n",
            "250/250 [==============================] - 0s 1ms/step - loss: 0.3219 - accuracy: 0.8659\n",
            "Epoch 88/100\n",
            "250/250 [==============================] - 0s 1ms/step - loss: 0.3111 - accuracy: 0.8728\n",
            "Epoch 89/100\n",
            "250/250 [==============================] - 0s 1ms/step - loss: 0.3152 - accuracy: 0.8708\n",
            "Epoch 90/100\n",
            "250/250 [==============================] - 0s 1ms/step - loss: 0.3214 - accuracy: 0.8651\n",
            "Epoch 91/100\n",
            "250/250 [==============================] - 0s 1ms/step - loss: 0.3194 - accuracy: 0.8706\n",
            "Epoch 92/100\n",
            "250/250 [==============================] - 0s 1ms/step - loss: 0.3121 - accuracy: 0.8735\n",
            "Epoch 93/100\n",
            "250/250 [==============================] - 0s 1ms/step - loss: 0.3135 - accuracy: 0.8665\n",
            "Epoch 94/100\n",
            "250/250 [==============================] - 0s 1ms/step - loss: 0.3171 - accuracy: 0.8684\n",
            "Epoch 95/100\n",
            "250/250 [==============================] - 0s 1ms/step - loss: 0.3228 - accuracy: 0.8648\n",
            "Epoch 96/100\n",
            "250/250 [==============================] - 0s 1ms/step - loss: 0.3266 - accuracy: 0.8655\n",
            "Epoch 97/100\n",
            "250/250 [==============================] - 0s 1ms/step - loss: 0.3235 - accuracy: 0.8650\n",
            "Epoch 98/100\n",
            "250/250 [==============================] - 0s 1ms/step - loss: 0.3099 - accuracy: 0.8713\n",
            "Epoch 99/100\n",
            "250/250 [==============================] - 0s 1ms/step - loss: 0.3141 - accuracy: 0.8683\n",
            "Epoch 100/100\n",
            "250/250 [==============================] - 0s 1ms/step - loss: 0.3141 - accuracy: 0.8676\n"
          ],
          "name": "stdout"
        },
        {
          "output_type": "execute_result",
          "data": {
            "text/plain": [
              "<tensorflow.python.keras.callbacks.History at 0x7f43e3d1f7b8>"
            ]
          },
          "metadata": {
            "tags": []
          },
          "execution_count": 231
        }
      ]
    },
    {
      "cell_type": "markdown",
      "metadata": {
        "id": "qDi0WB642dbW"
      },
      "source": [
        "##Making the predictions and evaluating the model"
      ]
    },
    {
      "cell_type": "markdown",
      "metadata": {
        "id": "rbcd6r0B2jVX"
      },
      "source": [
        "###Predicting the result of a single observation"
      ]
    },
    {
      "cell_type": "markdown",
      "metadata": {
        "id": "97flmDbi24Ul"
      },
      "source": [
        "Use our ANN model to predict if the customer with the following informations will leave the bank: \r\n",
        "\r\n",
        "Geography: France\r\n",
        "\r\n",
        "Credit Score: 600\r\n",
        "\r\n",
        "Gender: Male\r\n",
        "\r\n",
        "Age: 40 years old\r\n",
        "\r\n",
        "Tenure: 3 years\r\n",
        "\r\n",
        "Balance: \\$ 60000\r\n",
        "\r\n",
        "Number of Products: 2\r\n",
        "\r\n",
        "Does this customer have a credit card? Yes\r\n",
        "\r\n",
        "Is this customer an Active Member: Yes\r\n",
        "\r\n",
        "Estimated Salary: \\$ 50000\r\n",
        "\r\n",
        "So, should we say goodbye to that customer?"
      ]
    },
    {
      "cell_type": "code",
      "metadata": {
        "colab": {
          "base_uri": "https://localhost:8080/",
          "height": 330
        },
        "id": "W2N8VwxQ2OWW",
        "outputId": "959f542d-bc48-4643-c3c2-c08b23562fea"
      },
      "source": [
        "print(ann.predict(scaler.transform([[1,0,1,600,0,40,3,60000,2,1,1,50000]])))"
      ],
      "execution_count": 237,
      "outputs": [
        {
          "output_type": "error",
          "ename": "ValueError",
          "evalue": "ignored",
          "traceback": [
            "\u001b[0;31m---------------------------------------------------------------------------\u001b[0m",
            "\u001b[0;31mValueError\u001b[0m                                Traceback (most recent call last)",
            "\u001b[0;32m<ipython-input-237-7d57bc5bdb4c>\u001b[0m in \u001b[0;36m<module>\u001b[0;34m()\u001b[0m\n\u001b[0;32m----> 1\u001b[0;31m \u001b[0mprint\u001b[0m\u001b[0;34m(\u001b[0m\u001b[0mann\u001b[0m\u001b[0;34m.\u001b[0m\u001b[0mpredict\u001b[0m\u001b[0;34m(\u001b[0m\u001b[0mscaler\u001b[0m\u001b[0;34m.\u001b[0m\u001b[0mtransform\u001b[0m\u001b[0;34m(\u001b[0m\u001b[0;34m[\u001b[0m\u001b[0;34m[\u001b[0m\u001b[0;36m1\u001b[0m\u001b[0;34m,\u001b[0m\u001b[0;36m0\u001b[0m\u001b[0;34m,\u001b[0m\u001b[0;36m1\u001b[0m\u001b[0;34m,\u001b[0m\u001b[0;36m600\u001b[0m\u001b[0;34m,\u001b[0m\u001b[0;36m0\u001b[0m\u001b[0;34m,\u001b[0m\u001b[0;36m40\u001b[0m\u001b[0;34m,\u001b[0m\u001b[0;36m3\u001b[0m\u001b[0;34m,\u001b[0m\u001b[0;36m60000\u001b[0m\u001b[0;34m,\u001b[0m\u001b[0;36m2\u001b[0m\u001b[0;34m,\u001b[0m\u001b[0;36m1\u001b[0m\u001b[0;34m,\u001b[0m\u001b[0;36m1\u001b[0m\u001b[0;34m,\u001b[0m\u001b[0;36m50000\u001b[0m\u001b[0;34m]\u001b[0m\u001b[0;34m]\u001b[0m\u001b[0;34m)\u001b[0m\u001b[0;34m)\u001b[0m\u001b[0;34m)\u001b[0m\u001b[0;34m\u001b[0m\u001b[0;34m\u001b[0m\u001b[0m\n\u001b[0m",
            "\u001b[0;32m/usr/local/lib/python3.6/dist-packages/sklearn/preprocessing/_data.py\u001b[0m in \u001b[0;36mtransform\u001b[0;34m(self, X, copy)\u001b[0m\n\u001b[1;32m    804\u001b[0m         \u001b[0;32melse\u001b[0m\u001b[0;34m:\u001b[0m\u001b[0;34m\u001b[0m\u001b[0;34m\u001b[0m\u001b[0m\n\u001b[1;32m    805\u001b[0m             \u001b[0;32mif\u001b[0m \u001b[0mself\u001b[0m\u001b[0;34m.\u001b[0m\u001b[0mwith_mean\u001b[0m\u001b[0;34m:\u001b[0m\u001b[0;34m\u001b[0m\u001b[0;34m\u001b[0m\u001b[0m\n\u001b[0;32m--> 806\u001b[0;31m                 \u001b[0mX\u001b[0m \u001b[0;34m-=\u001b[0m \u001b[0mself\u001b[0m\u001b[0;34m.\u001b[0m\u001b[0mmean_\u001b[0m\u001b[0;34m\u001b[0m\u001b[0;34m\u001b[0m\u001b[0m\n\u001b[0m\u001b[1;32m    807\u001b[0m             \u001b[0;32mif\u001b[0m \u001b[0mself\u001b[0m\u001b[0;34m.\u001b[0m\u001b[0mwith_std\u001b[0m\u001b[0;34m:\u001b[0m\u001b[0;34m\u001b[0m\u001b[0;34m\u001b[0m\u001b[0m\n\u001b[1;32m    808\u001b[0m                 \u001b[0mX\u001b[0m \u001b[0;34m/=\u001b[0m \u001b[0mself\u001b[0m\u001b[0;34m.\u001b[0m\u001b[0mscale_\u001b[0m\u001b[0;34m\u001b[0m\u001b[0;34m\u001b[0m\u001b[0m\n",
            "\u001b[0;31mValueError\u001b[0m: operands could not be broadcast together with shapes (1,12) (13,) (1,12) "
          ]
        }
      ]
    },
    {
      "cell_type": "markdown",
      "metadata": {
        "id": "DQR3gpqoJd98"
      },
      "source": [
        "I tackled this problem with adding an additional 0 parameter at the end"
      ]
    },
    {
      "cell_type": "code",
      "metadata": {
        "colab": {
          "base_uri": "https://localhost:8080/"
        },
        "id": "iMXyU6tlJUbU",
        "outputId": "a5bc6a8b-d9ed-48e9-d76d-1fc7bba6082e"
      },
      "source": [
        "print(ann.predict(scaler.transform([[1,0,1,600,0,40,3,60000,2,1,1,50000,0]])))"
      ],
      "execution_count": 238,
      "outputs": [
        {
          "output_type": "stream",
          "text": [
            "[[0.]]\n"
          ],
          "name": "stdout"
        }
      ]
    },
    {
      "cell_type": "code",
      "metadata": {
        "colab": {
          "base_uri": "https://localhost:8080/"
        },
        "id": "uLweLjxfJl3S",
        "outputId": "1320055c-4e14-4701-ee71-3ae91748efe4"
      },
      "source": [
        "#Are the chances of employee greater than 50$ ?\r\n",
        "print(ann.predict(scaler.transform([[1,0,1,600,0,40,3,60000,2,1,1,50000,0]])) > 0.5)\r\n"
      ],
      "execution_count": 239,
      "outputs": [
        {
          "output_type": "stream",
          "text": [
            "[[False]]\n"
          ],
          "name": "stdout"
        }
      ]
    },
    {
      "cell_type": "markdown",
      "metadata": {
        "id": "54D8mbYxJxlg"
      },
      "source": [
        "So, the customer might not leave the company"
      ]
    },
    {
      "cell_type": "code",
      "metadata": {
        "colab": {
          "base_uri": "https://localhost:8080/"
        },
        "id": "f5zNCsMjJwr6",
        "outputId": "04f5fcbe-c096-485b-a872-1103cf172225"
      },
      "source": [
        "print(ann.predict(scaler.transform([[1,0,1,600,0,40,3,60000,2,1,1,50000,0]])) == 0.03827231)\r\n"
      ],
      "execution_count": 240,
      "outputs": [
        {
          "output_type": "stream",
          "text": [
            "[[False]]\n"
          ],
          "name": "stdout"
        }
      ]
    },
    {
      "cell_type": "markdown",
      "metadata": {
        "id": "SlU4y3OtKKED"
      },
      "source": [
        "###Predicting the Test Set results"
      ]
    },
    {
      "cell_type": "code",
      "metadata": {
        "colab": {
          "base_uri": "https://localhost:8080/"
        },
        "id": "473-OBZlKRIS",
        "outputId": "eafc5ca5-1fa0-4fa2-b217-4a8e31cc927b"
      },
      "source": [
        "ann.predict(X_test)"
      ],
      "execution_count": 241,
      "outputs": [
        {
          "output_type": "execute_result",
          "data": {
            "text/plain": [
              "array([[0.26041943],\n",
              "       [0.18873262],\n",
              "       [0.07494977],\n",
              "       ...,\n",
              "       [0.380043  ],\n",
              "       [0.16065687],\n",
              "       [0.23386467]], dtype=float32)"
            ]
          },
          "metadata": {
            "tags": []
          },
          "execution_count": 241
        }
      ]
    },
    {
      "cell_type": "code",
      "metadata": {
        "id": "qEjo961dKqqA"
      },
      "source": [
        "pred = (ann.predict(X_test) > 0.5)"
      ],
      "execution_count": 247,
      "outputs": []
    },
    {
      "cell_type": "markdown",
      "metadata": {
        "id": "frJ64mXEKdOa"
      },
      "source": [
        "###Evaluating the predictions"
      ]
    },
    {
      "cell_type": "code",
      "metadata": {
        "id": "LaqlFvR6KFFD"
      },
      "source": [
        "from sklearn.metrics import classification_report, accuracy_score, confusion_matrix"
      ],
      "execution_count": 242,
      "outputs": []
    },
    {
      "cell_type": "code",
      "metadata": {
        "colab": {
          "base_uri": "https://localhost:8080/"
        },
        "id": "NfKrKOBAKlqU",
        "outputId": "c08cd6e0-78f4-48e4-cd42-753ef88d8ed3"
      },
      "source": [
        "print(classification_report(y_test,pred))\r\n",
        "print('\\n')\r\n",
        "print(confusion_matrix(y_test,pred))\r\n",
        "print('\\n')\r\n",
        "print(accuracy_score(y_test,pred))\r\n",
        "print('\\n')"
      ],
      "execution_count": 248,
      "outputs": [
        {
          "output_type": "stream",
          "text": [
            "              precision    recall  f1-score   support\n",
            "\n",
            "           0       0.88      0.95      0.91      1595\n",
            "           1       0.72      0.49      0.58       405\n",
            "\n",
            "    accuracy                           0.86      2000\n",
            "   macro avg       0.80      0.72      0.75      2000\n",
            "weighted avg       0.85      0.86      0.85      2000\n",
            "\n",
            "\n",
            "\n",
            "[[1517   78]\n",
            " [ 207  198]]\n",
            "\n",
            "\n",
            "0.8575\n",
            "\n",
            "\n"
          ],
          "name": "stdout"
        }
      ]
    },
    {
      "cell_type": "markdown",
      "metadata": {
        "id": "JbL7W4t-Ltwo"
      },
      "source": [
        "[Additional content on CNN](https://www.superdatascience.com/blogs/the-ultimate-guide-to-artificial-neural-networks-ann)"
      ]
    },
    {
      "cell_type": "code",
      "metadata": {
        "id": "HekDNBhQK47o"
      },
      "source": [
        ""
      ],
      "execution_count": null,
      "outputs": []
    }
  ]
}