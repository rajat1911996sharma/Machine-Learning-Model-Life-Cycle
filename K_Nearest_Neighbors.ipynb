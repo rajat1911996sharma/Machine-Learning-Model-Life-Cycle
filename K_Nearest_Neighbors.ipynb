{
  "nbformat": 4,
  "nbformat_minor": 0,
  "metadata": {
    "colab": {
      "name": "K-Nearest Neighbors.ipynb",
      "provenance": [],
      "collapsed_sections": [
        "7OcTSHLWRjZH"
      ],
      "authorship_tag": "ABX9TyNhzm7/o/erpywmjO1PnA5m",
      "include_colab_link": true
    },
    "kernelspec": {
      "name": "python3",
      "display_name": "Python 3"
    }
  },
  "cells": [
    {
      "cell_type": "markdown",
      "metadata": {
        "id": "view-in-github",
        "colab_type": "text"
      },
      "source": [
        "<a href=\"https://colab.research.google.com/github/rajat1911996sharma/Machine-Learning-Model-Life-Cycle/blob/main/K_Nearest_Neighbors.ipynb\" target=\"_parent\"><img src=\"https://colab.research.google.com/assets/colab-badge.svg\" alt=\"Open In Colab\"/></a>"
      ]
    },
    {
      "cell_type": "markdown",
      "metadata": {
        "id": "7OcTSHLWRjZH"
      },
      "source": [
        "#KNN\n",
        "'''\n",
        "\n",
        "#The Algorithm\n",
        "```\n",
        "Step 1: Choose the number K of neighbors\n",
        "\n",
        "Step 2: Take the K nearest neighbors of the new data point, according to Euclidian Distance\n",
        "\n",
        "Step 3: among these K neighbors, count the number of data points in each category \n",
        "\n",
        "Step 4: Assign the new data point to the category where you counted the most neighbors\n",
        "\n",
        "Model ready\n",
        "```\n",
        "usually, we take 5 as the number of neighbors.\n",
        "\n",
        "##Euclidean Distance\n",
        "####Distance between two points P1 and P2\n",
        "\n",
        "```\n",
        "ED = ((x2-x1)^2 + (y2-y1)^2)^0.5\n",
        "```\n",
        "\n",
        "'''"
      ]
    },
    {
      "cell_type": "markdown",
      "metadata": {
        "id": "BAssad3eRmJb"
      },
      "source": [
        "#Data Preprocessing"
      ]
    },
    {
      "cell_type": "markdown",
      "metadata": {
        "id": "zaXnwhi4RpQu"
      },
      "source": [
        "##Importing Libraries"
      ]
    },
    {
      "cell_type": "code",
      "metadata": {
        "id": "TuLNZyK1RVtj"
      },
      "source": [
        "import pandas as pd\n",
        "import numpy as np\n",
        "import matplotlib.pyplot as plt\n",
        "import seaborn as sns\n",
        "%matplotlib inline"
      ],
      "execution_count": 26,
      "outputs": []
    },
    {
      "cell_type": "markdown",
      "metadata": {
        "id": "Y1NauLcRSBuc"
      },
      "source": [
        "##Importing Dataset"
      ]
    },
    {
      "cell_type": "code",
      "metadata": {
        "id": "yL-TBMgDSAxi"
      },
      "source": [
        "df = pd.read_csv('Social_Network_Ads.csv')"
      ],
      "execution_count": 27,
      "outputs": []
    },
    {
      "cell_type": "code",
      "metadata": {
        "colab": {
          "base_uri": "https://localhost:8080/",
          "height": 195
        },
        "id": "fu8guV9zSMPK",
        "outputId": "124c3f67-afaa-4dac-c6be-30795447abe1"
      },
      "source": [
        "df.head()"
      ],
      "execution_count": 28,
      "outputs": [
        {
          "output_type": "execute_result",
          "data": {
            "text/html": [
              "<div>\n",
              "<style scoped>\n",
              "    .dataframe tbody tr th:only-of-type {\n",
              "        vertical-align: middle;\n",
              "    }\n",
              "\n",
              "    .dataframe tbody tr th {\n",
              "        vertical-align: top;\n",
              "    }\n",
              "\n",
              "    .dataframe thead th {\n",
              "        text-align: right;\n",
              "    }\n",
              "</style>\n",
              "<table border=\"1\" class=\"dataframe\">\n",
              "  <thead>\n",
              "    <tr style=\"text-align: right;\">\n",
              "      <th></th>\n",
              "      <th>Age</th>\n",
              "      <th>EstimatedSalary</th>\n",
              "      <th>Purchased</th>\n",
              "    </tr>\n",
              "  </thead>\n",
              "  <tbody>\n",
              "    <tr>\n",
              "      <th>0</th>\n",
              "      <td>19</td>\n",
              "      <td>19000</td>\n",
              "      <td>0</td>\n",
              "    </tr>\n",
              "    <tr>\n",
              "      <th>1</th>\n",
              "      <td>35</td>\n",
              "      <td>20000</td>\n",
              "      <td>0</td>\n",
              "    </tr>\n",
              "    <tr>\n",
              "      <th>2</th>\n",
              "      <td>26</td>\n",
              "      <td>43000</td>\n",
              "      <td>0</td>\n",
              "    </tr>\n",
              "    <tr>\n",
              "      <th>3</th>\n",
              "      <td>27</td>\n",
              "      <td>57000</td>\n",
              "      <td>0</td>\n",
              "    </tr>\n",
              "    <tr>\n",
              "      <th>4</th>\n",
              "      <td>19</td>\n",
              "      <td>76000</td>\n",
              "      <td>0</td>\n",
              "    </tr>\n",
              "  </tbody>\n",
              "</table>\n",
              "</div>"
            ],
            "text/plain": [
              "   Age  EstimatedSalary  Purchased\n",
              "0   19            19000          0\n",
              "1   35            20000          0\n",
              "2   26            43000          0\n",
              "3   27            57000          0\n",
              "4   19            76000          0"
            ]
          },
          "metadata": {
            "tags": []
          },
          "execution_count": 28
        }
      ]
    },
    {
      "cell_type": "code",
      "metadata": {
        "id": "TUUyJ-5jSNpc"
      },
      "source": [
        "X = df.iloc[:, :-1].values\n",
        "y = df.iloc[:, -1].values"
      ],
      "execution_count": 29,
      "outputs": []
    },
    {
      "cell_type": "markdown",
      "metadata": {
        "id": "_C0CCgh0SdZG"
      },
      "source": [
        "##Splitting the Dataset into Training and Test set"
      ]
    },
    {
      "cell_type": "code",
      "metadata": {
        "id": "1klkTW7kSZBT"
      },
      "source": [
        "from sklearn.model_selection import train_test_split\n",
        "X_train, X_test, y_train, y_test = train_test_split(X,y,test_size=0.25,random_state=0)"
      ],
      "execution_count": 30,
      "outputs": []
    },
    {
      "cell_type": "markdown",
      "metadata": {
        "id": "KGig1tUhTQrW"
      },
      "source": [
        "#Feature Scaling"
      ]
    },
    {
      "cell_type": "code",
      "metadata": {
        "id": "AeIocMRTSra0"
      },
      "source": [
        "from sklearn.preprocessing import StandardScaler\n",
        "sc = StandardScaler()\n",
        "X_train = sc.fit_transform(X_train)\n",
        "x_test = sc.transform(X_test)"
      ],
      "execution_count": 23,
      "outputs": []
    },
    {
      "cell_type": "markdown",
      "metadata": {
        "id": "JKjwJQyCTrkf"
      },
      "source": [
        "#Training the KNN model on the Training Set"
      ]
    },
    {
      "cell_type": "markdown",
      "metadata": {
        "id": "H7MtCHeaYtHe"
      },
      "source": [
        "Minkowski Distance\n",
        "```\n",
        "MD = ((x2-x1)^p + (y2-y1)^p)^(1/p)\n",
        "```\n",
        "p=1\n",
        "For Manhatten Distance\n",
        "p=2\n",
        "For Euclidian Distance\n",
        "p --> +infinity\n",
        "for Chebyshev Distance\n",
        "\n",
        "[Minkowksi Distance Github](https://www.npmjs.com/package/compute-minkowski-distance)\n"
      ]
    },
    {
      "cell_type": "code",
      "metadata": {
        "colab": {
          "base_uri": "https://localhost:8080/"
        },
        "id": "qcHQZQSFTk3m",
        "outputId": "fb91a002-e4ec-40cc-eac4-4ea12a1a2533"
      },
      "source": [
        "from sklearn.neighbors import KNeighborsClassifier\n",
        "nn = KNeighborsClassifier(n_neighbors=5, metric='minkowski', p=2)\n",
        "#by default we use Minkowski metric form\n",
        "nn.fit(X_train,y_train)"
      ],
      "execution_count": 31,
      "outputs": [
        {
          "output_type": "execute_result",
          "data": {
            "text/plain": [
              "KNeighborsClassifier(algorithm='auto', leaf_size=30, metric='minkowski',\n",
              "                     metric_params=None, n_jobs=None, n_neighbors=5, p=2,\n",
              "                     weights='uniform')"
            ]
          },
          "metadata": {
            "tags": []
          },
          "execution_count": 31
        }
      ]
    },
    {
      "cell_type": "markdown",
      "metadata": {
        "id": "35ZaCdfVUmQh"
      },
      "source": [
        "#Predicting a new result"
      ]
    },
    {
      "cell_type": "code",
      "metadata": {
        "colab": {
          "base_uri": "https://localhost:8080/"
        },
        "id": "CP_zydv3UkKb",
        "outputId": "cef98ade-3922-4255-cf81-db6faebc9f83"
      },
      "source": [
        "nn.predict([[30,87000]])"
      ],
      "execution_count": 32,
      "outputs": [
        {
          "output_type": "execute_result",
          "data": {
            "text/plain": [
              "array([0])"
            ]
          },
          "metadata": {
            "tags": []
          },
          "execution_count": 32
        }
      ]
    },
    {
      "cell_type": "markdown",
      "metadata": {
        "id": "7ylW3Mf2UrHt"
      },
      "source": [
        "#Predicting the test set results"
      ]
    },
    {
      "cell_type": "code",
      "metadata": {
        "id": "ORAS_CVVUqod"
      },
      "source": [
        "test_pred = nn.predict(X_test)"
      ],
      "execution_count": 33,
      "outputs": []
    },
    {
      "cell_type": "markdown",
      "metadata": {
        "id": "qdTdBZFMbg5o"
      },
      "source": [
        "#Evaluating the model"
      ]
    },
    {
      "cell_type": "code",
      "metadata": {
        "colab": {
          "base_uri": "https://localhost:8080/"
        },
        "id": "UvRf_ZPuUz9R",
        "outputId": "3e86dafe-0002-430c-c3f2-4946154a0497"
      },
      "source": [
        "from sklearn.metrics import classification_report, confusion_matrix, accuracy_score\n",
        "print(classification_report(y_test, test_pred))\n",
        "print('\\n')\n",
        "print(confusion_matrix(y_test, test_pred))\n",
        "print('\\n')\n",
        "print(accuracy_score(y_test, test_pred))"
      ],
      "execution_count": 34,
      "outputs": [
        {
          "output_type": "stream",
          "text": [
            "              precision    recall  f1-score   support\n",
            "\n",
            "           0       0.88      0.87      0.87        68\n",
            "           1       0.73      0.75      0.74        32\n",
            "\n",
            "    accuracy                           0.83       100\n",
            "   macro avg       0.80      0.81      0.81       100\n",
            "weighted avg       0.83      0.83      0.83       100\n",
            "\n",
            "\n",
            "\n",
            "[[59  9]\n",
            " [ 8 24]]\n",
            "\n",
            "\n",
            "0.83\n"
          ],
          "name": "stdout"
        }
      ]
    },
    {
      "cell_type": "markdown",
      "metadata": {
        "id": "njy9cc_xcHWi"
      },
      "source": [
        "#Elbow Method for geting the Optimal K value"
      ]
    },
    {
      "cell_type": "markdown",
      "metadata": {
        "id": "ChLrWrY0cVLL"
      },
      "source": [
        "##Algorithm for Elbow method"
      ]
    },
    {
      "cell_type": "code",
      "metadata": {
        "id": "ZtzidYHCbnld"
      },
      "source": [
        "error_rate = []\n",
        "for i in range(1,40):\n",
        " \n",
        " nn = KNeighborsClassifier(n_neighbors=i)\n",
        " nn.fit(X_train,y_train)\n",
        " pred_i = nn.predict(X_test)\n",
        " error_rate.append(np.mean(pred_i != y_test))"
      ],
      "execution_count": 35,
      "outputs": []
    },
    {
      "cell_type": "markdown",
      "metadata": {
        "id": "eZTZ8U8Fcayg"
      },
      "source": [
        "##Plotting the Elbow method results"
      ]
    },
    {
      "cell_type": "code",
      "metadata": {
        "colab": {
          "base_uri": "https://localhost:8080/",
          "height": 421
        },
        "id": "AwZ4APbrcZkW",
        "outputId": "0887d8b1-a35d-4d33-ddcf-f1d7644a689b"
      },
      "source": [
        "plt.figure(figsize=(10,6))\n",
        "plt.plot(range(1,40),error_rate,color='blue', linestyle='dashed', marker='o',\n",
        " markerfacecolor='red', markersize=10)\n",
        "plt.title('Error Rate vs. K Value')\n",
        "plt.xlabel('K')\n",
        "plt.ylabel('Error Rate')"
      ],
      "execution_count": 39,
      "outputs": [
        {
          "output_type": "execute_result",
          "data": {
            "text/plain": [
              "Text(0, 0.5, 'Error Rate')"
            ]
          },
          "metadata": {
            "tags": []
          },
          "execution_count": 39
        },
        {
          "output_type": "display_data",
          "data": {
            "image/png": "[encoded data removed]",
            "text/plain": [
              "<Figure size 720x432 with 1 Axes>"
            ]
          },
          "metadata": {
            "tags": [],
            "needs_background": "light"
          }
        }
      ]
    },
    {
      "cell_type": "markdown",
      "metadata": {
        "id": "M6anL8-yc_P8"
      },
      "source": [
        "##Retraining the model with optimal k"
      ]
    },
    {
      "cell_type": "markdown",
      "metadata": {
        "id": "Bu6GfdjOdF6C"
      },
      "source": [
        "###Training the KNN model on the Training Set"
      ]
    },
    {
      "cell_type": "code",
      "metadata": {
        "colab": {
          "base_uri": "https://localhost:8080/"
        },
        "id": "TBjyWxGPcjAA",
        "outputId": "0a35a7bf-2afe-4e94-cf2f-e00bc0d7f390"
      },
      "source": [
        "from sklearn.neighbors import KNeighborsClassifier\n",
        "nn1 = KNeighborsClassifier(n_neighbors=11, metric='minkowski', p=2)\n",
        "#by default we use Minkowski metric form\n",
        "nn1.fit(X_train,y_train)"
      ],
      "execution_count": 44,
      "outputs": [
        {
          "output_type": "execute_result",
          "data": {
            "text/plain": [
              "KNeighborsClassifier(algorithm='auto', leaf_size=30, metric='minkowski',\n",
              "                     metric_params=None, n_jobs=None, n_neighbors=11, p=2,\n",
              "                     weights='uniform')"
            ]
          },
          "metadata": {
            "tags": []
          },
          "execution_count": 44
        }
      ]
    },
    {
      "cell_type": "markdown",
      "metadata": {
        "id": "kzxJjfEBdd9D"
      },
      "source": [
        "###Predicting new result"
      ]
    },
    {
      "cell_type": "code",
      "metadata": {
        "colab": {
          "base_uri": "https://localhost:8080/"
        },
        "id": "nLvaNvFhdW1L",
        "outputId": "4928259c-4925-4699-f581-cc9ce7e46810"
      },
      "source": [
        "nn1.predict([[30,87000]])"
      ],
      "execution_count": 45,
      "outputs": [
        {
          "output_type": "execute_result",
          "data": {
            "text/plain": [
              "array([0])"
            ]
          },
          "metadata": {
            "tags": []
          },
          "execution_count": 45
        }
      ]
    },
    {
      "cell_type": "markdown",
      "metadata": {
        "id": "ylj46NBFdoBt"
      },
      "source": [
        "###Predicting test set values"
      ]
    },
    {
      "cell_type": "code",
      "metadata": {
        "id": "ghb8FTUpdkWV"
      },
      "source": [
        "test_pred1 = nn1.predict(X_test)"
      ],
      "execution_count": 47,
      "outputs": []
    },
    {
      "cell_type": "markdown",
      "metadata": {
        "id": "Yq-cWuzvd7I3"
      },
      "source": [
        "###Evaluating the new predictions"
      ]
    },
    {
      "cell_type": "code",
      "metadata": {
        "colab": {
          "base_uri": "https://localhost:8080/"
        },
        "id": "weQIfyBHdvUJ",
        "outputId": "f4e8a56d-3fe8-4373-ef22-a585d7fcc488"
      },
      "source": [
        "from sklearn.metrics import classification_report, confusion_matrix, accuracy_score\n",
        "print(classification_report(y_test, test_pred1))\n",
        "print('\\n')\n",
        "print(confusion_matrix(y_test, test_pred1))\n",
        "print('\\n')\n",
        "print(accuracy_score(y_test, test_pred1))"
      ],
      "execution_count": 48,
      "outputs": [
        {
          "output_type": "stream",
          "text": [
            "              precision    recall  f1-score   support\n",
            "\n",
            "           0       0.89      0.96      0.92        68\n",
            "           1       0.89      0.75      0.81        32\n",
            "\n",
            "    accuracy                           0.89       100\n",
            "   macro avg       0.89      0.85      0.87       100\n",
            "weighted avg       0.89      0.89      0.89       100\n",
            "\n",
            "\n",
            "\n",
            "[[65  3]\n",
            " [ 8 24]]\n",
            "\n",
            "\n",
            "0.89\n"
          ],
          "name": "stdout"
        }
      ]
    }
  ]
}